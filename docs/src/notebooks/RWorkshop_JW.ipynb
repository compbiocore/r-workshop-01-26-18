{
 "cells": [
  {
   "cell_type": "markdown",
   "metadata": {
    "raw_mimetype": "text/markdown",
    "slideshow": {
     "slide_type": "slide"
    }
   },
   "source": [
    "# In this workshop you will learn:\n",
    "- Basics of R (objects, variables, data classes, vectors)\n",
    "- How to write R functions\n",
    "- How to import and export your own files\n",
    "- How to install and load R and Bioconductor packages\n",
    "\n",
    "# What is R?\n",
    "- R is a language and environment for statistical computing and graphics (https://www.r-project.org/about.html). \n",
    "- It is free and can be tailored to your needs by installing and using specific packages (https://cran.r-project.org/web/packages/available_packages_by_name.html).\n",
    "- You can use R interactively (e.g., enter commands into the R console or R Studio https://rstudio.com/) or into new cells in your Jupyter notebook.\n",
    "- You can write and run R scripts or generate reports and documents using R notebooks (https://blog.rstudio.com/2016/10/05/r-notebooks/) and markdown files (https://rmarkdown.rstudio.com/)."
   ]
  },
  {
   "cell_type": "markdown",
   "metadata": {},
   "source": [
    "# Interacting with R\n",
    "- You can use R interactively and have it do some simple math:"
   ]
  },
  {
   "cell_type": "code",
   "execution_count": 1,
   "metadata": {},
   "outputs": [
    {
     "data": {
      "text/html": [
       "1"
      ],
      "text/latex": [
       "1"
      ],
      "text/markdown": [
       "1"
      ],
      "text/plain": [
       "[1] 1"
      ]
     },
     "metadata": {},
     "output_type": "display_data"
    }
   ],
   "source": [
    "2 - 1"
   ]
  },
  {
   "cell_type": "markdown",
   "metadata": {
    "raw_mimetype": "text/markdown",
    "slideshow": {
     "slide_type": "slide"
    }
   },
   "source": [
    "- It is generally more useful to assign your values to **variables**, which are R objects.\n",
    "- You can assign values to R variables using the assignment operator **'<-'**, which assigns the value on the right to the variable on the left.\n",
    "- There are other operators as well (like the `=` sign) but I would suggest you stick with the `<-` operator for now.\n",
    "- Everything in R (including variables) is an object (https://cran.r-project.org/doc/manuals/r-release/R-lang.html#Objects)\n",
    "\n",
    "<div class=\"alert alert-block alert-info\">\n",
    "<b>Tip:</b> We will use the words `object` and `variable` interchangably in this workshop.\n",
    "</div>\n",
    "\n",
    "Let's assign a variable called `a`:"
   ]
  },
  {
   "cell_type": "code",
   "execution_count": 2,
   "metadata": {},
   "outputs": [],
   "source": [
    "a <- 1"
   ]
  },
  {
   "cell_type": "markdown",
   "metadata": {},
   "source": [
    "R won't print anything when you assign a value to a variable. We can look at the output of our assignment by typing `a`."
   ]
  },
  {
   "cell_type": "code",
   "execution_count": 3,
   "metadata": {},
   "outputs": [
    {
     "data": {
      "text/html": [
       "1"
      ],
      "text/latex": [
       "1"
      ],
      "text/markdown": [
       "1"
      ],
      "text/plain": [
       "[1] 1"
      ]
     },
     "metadata": {},
     "output_type": "display_data"
    }
   ],
   "source": [
    "a"
   ]
  },
  {
   "cell_type": "markdown",
   "metadata": {},
   "source": [
    "- R also comes with a `print()` function that we can use to look at our variables.\n",
    "- We will talk more about functions later in this workshop, but a **function** is a series of statements that work together to perform a specific task.\n",
    "- All functions need pieces of information (or **arguments**) to perform their particular function, these arguments can be required or optional. \n",
    "- `print()` takes a single required argument -- the thing you want to print.\n",
    "\n",
    "<div class=\"alert alert-block alert-info\">\n",
    "<b>Tip:</b> You can use `?function` in R to learn more about a particular function (for example: `?print`).\n",
    "</div>\n",
    "\n",
    "- Let's print variable `a`:"
   ]
  },
  {
   "cell_type": "code",
   "execution_count": 4,
   "metadata": {},
   "outputs": [
    {
     "name": "stdout",
     "output_type": "stream",
     "text": [
      "[1] 1\n"
     ]
    }
   ],
   "source": [
    "print(a)"
   ]
  },
  {
   "cell_type": "markdown",
   "metadata": {},
   "source": [
    "We can name our variables any combination of letters, numbers, or underscores (`_`) with a few exceptions:\n",
    "- R has a few reserved words that can't be used as variable names in R:\n",
    "    - `if`, `else`, `repeat`, `while`, `function`, `for`, `in`\n",
    "    - see the whole list of reserved words here: https://stat.ethz.ch/R-manual/R-devel/library/base/html/Reserved.html). \n",
    "- Variables can't start with a number or an underscore\n",
    "- You can technically use `.` in your variable names, but this is best avoided.\n",
    "\n",
    "For example:"
   ]
  },
  {
   "cell_type": "code",
   "execution_count": 5,
   "metadata": {},
   "outputs": [],
   "source": [
    "bar <- 11\n",
    "cat_1 <- 'cat' \n",
    "dog_ <- TRUE\n",
    "egg <- (1L)\n",
    "foo <- 2i"
   ]
  },
  {
   "cell_type": "markdown",
   "metadata": {},
   "source": [
    "Now that we have assigned some values to variables, we can start using them:"
   ]
  },
  {
   "cell_type": "code",
   "execution_count": 6,
   "metadata": {},
   "outputs": [
    {
     "name": "stdout",
     "output_type": "stream",
     "text": [
      "[1] 11\n"
     ]
    }
   ],
   "source": [
    "print(bar)"
   ]
  },
  {
   "cell_type": "code",
   "execution_count": 7,
   "metadata": {},
   "outputs": [
    {
     "name": "stdout",
     "output_type": "stream",
     "text": [
      "[1] 22\n"
     ]
    }
   ],
   "source": [
    "print(bar * 2)"
   ]
  },
  {
   "cell_type": "code",
   "execution_count": 8,
   "metadata": {},
   "outputs": [
    {
     "name": "stdout",
     "output_type": "stream",
     "text": [
      "[1] 1\n"
     ]
    }
   ],
   "source": [
    "print(a)"
   ]
  },
  {
   "cell_type": "code",
   "execution_count": 9,
   "metadata": {},
   "outputs": [
    {
     "name": "stdout",
     "output_type": "stream",
     "text": [
      "[1] 12\n"
     ]
    }
   ],
   "source": [
    "print(a + bar)"
   ]
  },
  {
   "cell_type": "markdown",
   "metadata": {},
   "source": [
    "# Data classes\n",
    "\n",
    "- The variables you assign have some sort of data class associated with them.\n",
    "- Data classes impact how functions will interact with your variables.\n",
    "- R has 5 basic data classes, including:\n",
    "\n",
    "1. `character`, which is a character \n",
    "2. `numeric`, which can be `real` (a rounded number) or `decimal` (a number including a decimal point).\n",
    "3. `integer`, which can be a rounded number (but not a decimal) \n",
    "4. `logical`, which can be either `TRUE` or `FALSE`\n",
    "5. `complex`, allows you to use imaginary numbers \n",
    "\n",
    "- You can also have missing data, which we will also talk about later in this workshop.\n",
    "\n",
    "Let's look at the data classes of our variables we have just assigned:"
   ]
  },
  {
   "cell_type": "code",
   "execution_count": 10,
   "metadata": {},
   "outputs": [
    {
     "data": {
      "text/html": [
       "'numeric'"
      ],
      "text/latex": [
       "'numeric'"
      ],
      "text/markdown": [
       "'numeric'"
      ],
      "text/plain": [
       "[1] \"numeric\""
      ]
     },
     "metadata": {},
     "output_type": "display_data"
    },
    {
     "data": {
      "text/html": [
       "'numeric'"
      ],
      "text/latex": [
       "'numeric'"
      ],
      "text/markdown": [
       "'numeric'"
      ],
      "text/plain": [
       "[1] \"numeric\""
      ]
     },
     "metadata": {},
     "output_type": "display_data"
    },
    {
     "data": {
      "text/html": [
       "'character'"
      ],
      "text/latex": [
       "'character'"
      ],
      "text/markdown": [
       "'character'"
      ],
      "text/plain": [
       "[1] \"character\""
      ]
     },
     "metadata": {},
     "output_type": "display_data"
    },
    {
     "data": {
      "text/html": [
       "'logical'"
      ],
      "text/latex": [
       "'logical'"
      ],
      "text/markdown": [
       "'logical'"
      ],
      "text/plain": [
       "[1] \"logical\""
      ]
     },
     "metadata": {},
     "output_type": "display_data"
    },
    {
     "data": {
      "text/html": [
       "'integer'"
      ],
      "text/latex": [
       "'integer'"
      ],
      "text/markdown": [
       "'integer'"
      ],
      "text/plain": [
       "[1] \"integer\""
      ]
     },
     "metadata": {},
     "output_type": "display_data"
    },
    {
     "data": {
      "text/html": [
       "'complex'"
      ],
      "text/latex": [
       "'complex'"
      ],
      "text/markdown": [
       "'complex'"
      ],
      "text/plain": [
       "[1] \"complex\""
      ]
     },
     "metadata": {},
     "output_type": "display_data"
    }
   ],
   "source": [
    "class(a)\n",
    "class(bar)\n",
    "class(cat_1)\n",
    "class(dog_)\n",
    "class(egg)\n",
    "class(foo)"
   ]
  },
  {
   "cell_type": "markdown",
   "metadata": {},
   "source": [
    "- The `L` we included when we assigned `egg` tells R that this object is an integer.\n",
    "- The `i` we included when we assigned `foo` indicates an imaginary number, making `foo` complex data class object."
   ]
  },
  {
   "cell_type": "code",
   "execution_count": 11,
   "metadata": {},
   "outputs": [],
   "source": [
    "#?class"
   ]
  },
  {
   "cell_type": "markdown",
   "metadata": {},
   "source": [
    "# R data structures\n",
    "- R objects can also contain more than one element.\n",
    "- Objects that contain more than one element are organized into different data structures.\n",
    "- Data structures in R include vectors (also referred to as 'atomic vectors' in R), lists, matrices, arrays, and data frames.\n",
    "\n",
    "### Vectors\n",
    "- Probably the simplest R object that contains more than one element is a **vector**. \n",
    "- You can create a vector using the concatenate function, `c()`, or directly assigning them. \n",
    "- The `c()` function will coerce all of the arguments to a common data type and combine them to form a vector. \n",
    "- Here's a few examples of how you can assign vectors:"
   ]
  },
  {
   "cell_type": "code",
   "execution_count": 12,
   "metadata": {},
   "outputs": [],
   "source": [
    "numeric_vector <- c(1,2,3,4,5) \n",
    "character_vector <- c('one', 'two', 'three', 'four', 'five') \n",
    "integer_vector <- (6:12) \n",
    "logical_vector <- c(TRUE, TRUE, FALSE)\n",
    "character_vector_2 <- c('a', 'pug', 'is', 'not', 'a', 'big', 'dog')"
   ]
  },
  {
   "cell_type": "markdown",
   "metadata": {},
   "source": [
    "Note that I used `:` when assigning `integer_vector`, which just generates a list from 6 through 12."
   ]
  },
  {
   "cell_type": "code",
   "execution_count": 13,
   "metadata": {},
   "outputs": [
    {
     "name": "stdout",
     "output_type": "stream",
     "text": [
      "[1] 1 2 3 4 5\n",
      "[1] \"one\"   \"two\"   \"three\" \"four\"  \"five\" \n",
      "[1]  6  7  8  9 10 11 12\n",
      "[1]  TRUE  TRUE FALSE\n",
      "[1] \"a\"   \"pug\" \"is\"  \"not\" \"a\"   \"big\" \"dog\"\n"
     ]
    }
   ],
   "source": [
    "print(numeric_vector)\n",
    "print(character_vector)\n",
    "print(integer_vector)\n",
    "print(logical_vector) \n",
    "print(character_vector_2)"
   ]
  },
  {
   "cell_type": "markdown",
   "metadata": {},
   "source": [
    "Vectors also have class:"
   ]
  },
  {
   "cell_type": "code",
   "execution_count": 14,
   "metadata": {},
   "outputs": [
    {
     "name": "stdout",
     "output_type": "stream",
     "text": [
      "[1] \"numeric\"\n",
      "[1] \"character\"\n",
      "[1] \"integer\"\n",
      "[1] \"logical\"\n",
      "[1] \"character\"\n"
     ]
    }
   ],
   "source": [
    "print(class(numeric_vector))\n",
    "print(class(character_vector))\n",
    "print(class(integer_vector))\n",
    "print(class(logical_vector)) \n",
    "print(class(character_vector_2))"
   ]
  },
  {
   "cell_type": "markdown",
   "metadata": {},
   "source": [
    "You can combine vectors using `c()`"
   ]
  },
  {
   "cell_type": "code",
   "execution_count": 15,
   "metadata": {},
   "outputs": [],
   "source": [
    "combined_vector <- c(numeric_vector, integer_vector)"
   ]
  },
  {
   "cell_type": "code",
   "execution_count": 16,
   "metadata": {},
   "outputs": [
    {
     "name": "stdout",
     "output_type": "stream",
     "text": [
      " [1]  1  2  3  4  5  6  7  8  9 10 11 12\n"
     ]
    }
   ],
   "source": [
    "print(combined_vector)"
   ]
  },
  {
   "cell_type": "markdown",
   "metadata": {},
   "source": [
    "You can use the `length()` function to see how long your vectors are:"
   ]
  },
  {
   "cell_type": "code",
   "execution_count": 17,
   "metadata": {},
   "outputs": [
    {
     "name": "stdout",
     "output_type": "stream",
     "text": [
      "[1] 12\n"
     ]
    }
   ],
   "source": [
    "print(length(combined_vector))"
   ]
  },
  {
   "cell_type": "markdown",
   "metadata": {},
   "source": [
    "You can also access elements of the vector based on the index (or its position in the vector):"
   ]
  },
  {
   "cell_type": "code",
   "execution_count": 18,
   "metadata": {},
   "outputs": [
    {
     "name": "stdout",
     "output_type": "stream",
     "text": [
      "[1] 2\n"
     ]
    }
   ],
   "source": [
    "print(combined_vector[2])"
   ]
  },
  {
   "cell_type": "markdown",
   "metadata": {},
   "source": [
    "You can combine these operations, but note that R code evaluates from the inside out:"
   ]
  },
  {
   "cell_type": "code",
   "execution_count": 19,
   "metadata": {},
   "outputs": [
    {
     "name": "stdout",
     "output_type": "stream",
     "text": [
      "[1] 12\n"
     ]
    }
   ],
   "source": [
    "print(combined_vector[length(combined_vector)])"
   ]
  },
  {
   "cell_type": "markdown",
   "metadata": {},
   "source": [
    "Here, R is reading `length(combined_vector)` first. The value returned by the `length()` function is then used to access the last entry in the `combined_vector` vector."
   ]
  },
  {
   "cell_type": "markdown",
   "metadata": {},
   "source": [
    "You can also name vector elements and then access them by their names:"
   ]
  },
  {
   "cell_type": "code",
   "execution_count": 20,
   "metadata": {},
   "outputs": [
    {
     "name": "stdout",
     "output_type": "stream",
     "text": [
      "  one   two three  four  five \n",
      "    1     2     3     4     5 \n"
     ]
    }
   ],
   "source": [
    "names(numeric_vector) <- c('one', 'two', 'three', 'four', 'five')\n",
    "print(numeric_vector)"
   ]
  },
  {
   "cell_type": "code",
   "execution_count": 21,
   "metadata": {},
   "outputs": [
    {
     "name": "stdout",
     "output_type": "stream",
     "text": [
      "three \n",
      "    3 \n"
     ]
    }
   ],
   "source": [
    "print(numeric_vector['three'])"
   ]
  },
  {
   "cell_type": "markdown",
   "metadata": {},
   "source": [
    "We can use `-c` to remove vector elements:"
   ]
  },
  {
   "cell_type": "code",
   "execution_count": 22,
   "metadata": {},
   "outputs": [
    {
     "name": "stdout",
     "output_type": "stream",
     "text": [
      " [1]  1  2  3  5  6  7  8  9 10 11 12\n"
     ]
    }
   ],
   "source": [
    "print(combined_vector[-c(4)])"
   ]
  },
  {
   "cell_type": "markdown",
   "metadata": {},
   "source": [
    "If a vector is numerical, we can also perform some math operations on the entire vector. Here, we can calculate the sum of a vector:"
   ]
  },
  {
   "cell_type": "code",
   "execution_count": 23,
   "metadata": {},
   "outputs": [
    {
     "name": "stdout",
     "output_type": "stream",
     "text": [
      " [1]  1  2  3  4  5  6  7  8  9 10 11 12\n",
      "[1] 78\n"
     ]
    }
   ],
   "source": [
    "print(combined_vector)\n",
    "print(sum(combined_vector))"
   ]
  },
  {
   "cell_type": "code",
   "execution_count": 24,
   "metadata": {},
   "outputs": [
    {
     "name": "stdout",
     "output_type": "stream",
     "text": [
      " [1] 0.01282051 0.02564103 0.03846154 0.05128205 0.06410256 0.07692308\n",
      " [7] 0.08974359 0.10256410 0.11538462 0.12820513 0.14102564 0.15384615\n"
     ]
    }
   ],
   "source": [
    "print(combined_vector/sum(combined_vector))"
   ]
  },
  {
   "cell_type": "markdown",
   "metadata": {},
   "source": [
    "Use the `round()` function to specify you only want 3 digits reported and assign it to a variable called `rounded`"
   ]
  },
  {
   "cell_type": "code",
   "execution_count": 25,
   "metadata": {},
   "outputs": [
    {
     "name": "stdout",
     "output_type": "stream",
     "text": [
      " [1] 0.013 0.026 0.038 0.051 0.064 0.077 0.090 0.103 0.115 0.128 0.141 0.154\n"
     ]
    }
   ],
   "source": [
    "rounded <- round((combined_vector/sum(combined_vector)), digits = 3)\n",
    "print(rounded)"
   ]
  },
  {
   "cell_type": "markdown",
   "metadata": {},
   "source": [
    "You can also perform math operations on two vectors..."
   ]
  },
  {
   "cell_type": "code",
   "execution_count": 26,
   "metadata": {},
   "outputs": [
    {
     "name": "stdout",
     "output_type": "stream",
     "text": [
      " [1]  1.013  2.026  3.038  4.051  5.064  6.077  7.090  8.103  9.115 10.128\n",
      "[11] 11.141 12.154\n"
     ]
    }
   ],
   "source": [
    "print(rounded + combined_vector)"
   ]
  },
  {
   "cell_type": "markdown",
   "metadata": {},
   "source": [
    "but you'll get weird results if the vectors are different lengths:"
   ]
  },
  {
   "cell_type": "code",
   "execution_count": 27,
   "metadata": {},
   "outputs": [
    {
     "name": "stdout",
     "output_type": "stream",
     "text": [
      " [1]  1  2  3  4  5  6  7  8  9 10 11 12\n",
      "  one   two three  four  five \n",
      "    1     2     3     4     5 \n"
     ]
    }
   ],
   "source": [
    "print(combined_vector)\n",
    "print(numeric_vector)"
   ]
  },
  {
   "cell_type": "code",
   "execution_count": 28,
   "metadata": {},
   "outputs": [
    {
     "name": "stderr",
     "output_type": "stream",
     "text": [
      "Warning message in combined_vector + numeric_vector:\n",
      "“longer object length is not a multiple of shorter object length”"
     ]
    },
    {
     "name": "stdout",
     "output_type": "stream",
     "text": [
      " [1]  2  4  6  8 10  7  9 11 13 15 12 14\n"
     ]
    }
   ],
   "source": [
    "print(combined_vector + numeric_vector)"
   ]
  },
  {
   "cell_type": "markdown",
   "metadata": {},
   "source": [
    "It looks like R will give you an error message and then go back to the start of the shorter vector."
   ]
  },
  {
   "cell_type": "markdown",
   "metadata": {},
   "source": [
    "**Coercing between classes**"
   ]
  },
  {
   "cell_type": "markdown",
   "metadata": {},
   "source": [
    "Let's say you're trying to import some data into R, maybe a vector of measurements:"
   ]
  },
  {
   "cell_type": "code",
   "execution_count": 29,
   "metadata": {},
   "outputs": [
    {
     "data": {
      "text/html": [
       "'character'"
      ],
      "text/latex": [
       "'character'"
      ],
      "text/markdown": [
       "'character'"
      ],
      "text/plain": [
       "[1] \"character\""
      ]
     },
     "metadata": {},
     "output_type": "display_data"
    }
   ],
   "source": [
    "your_data <- c('6','5','3','2','11','0','9','9')\n",
    "class(your_data)"
   ]
  },
  {
   "cell_type": "markdown",
   "metadata": {},
   "source": [
    "You vector is a character vector because the elements of the vector are in quotes. You can coerce them back into numeric values using `as.numeric()`:"
   ]
  },
  {
   "cell_type": "code",
   "execution_count": 30,
   "metadata": {},
   "outputs": [
    {
     "name": "stdout",
     "output_type": "stream",
     "text": [
      "[1]  6  5  3  2 11  0  9  9\n"
     ]
    },
    {
     "data": {
      "text/html": [
       "'numeric'"
      ],
      "text/latex": [
       "'numeric'"
      ],
      "text/markdown": [
       "'numeric'"
      ],
      "text/plain": [
       "[1] \"numeric\""
      ]
     },
     "metadata": {},
     "output_type": "display_data"
    }
   ],
   "source": [
    "your_new_data <- as.numeric(your_data)\n",
    "print(your_new_data)\n",
    "class(your_new_data)"
   ]
  },
  {
   "cell_type": "markdown",
   "metadata": {},
   "source": [
    "What happens if we try to `as.numeric` things that aren't numbers?"
   ]
  },
  {
   "cell_type": "code",
   "execution_count": 31,
   "metadata": {},
   "outputs": [
    {
     "name": "stderr",
     "output_type": "stream",
     "text": [
      "Warning message in eval(expr, envir, enclos):\n",
      "“NAs introduced by coercion”"
     ]
    },
    {
     "data": {
      "text/html": [
       "<ol class=list-inline>\n",
       "\t<li>&lt;NA&gt;</li>\n",
       "\t<li>&lt;NA&gt;</li>\n",
       "\t<li>&lt;NA&gt;</li>\n",
       "\t<li>&lt;NA&gt;</li>\n",
       "\t<li>&lt;NA&gt;</li>\n",
       "\t<li>&lt;NA&gt;</li>\n",
       "\t<li>&lt;NA&gt;</li>\n",
       "</ol>\n"
      ],
      "text/latex": [
       "\\begin{enumerate*}\n",
       "\\item <NA>\n",
       "\\item <NA>\n",
       "\\item <NA>\n",
       "\\item <NA>\n",
       "\\item <NA>\n",
       "\\item <NA>\n",
       "\\item <NA>\n",
       "\\end{enumerate*}\n"
      ],
      "text/markdown": [
       "1. &lt;NA&gt;\n",
       "2. &lt;NA&gt;\n",
       "3. &lt;NA&gt;\n",
       "4. &lt;NA&gt;\n",
       "5. &lt;NA&gt;\n",
       "6. &lt;NA&gt;\n",
       "7. &lt;NA&gt;\n",
       "\n",
       "\n"
      ],
      "text/plain": [
       "[1] NA NA NA NA NA NA NA"
      ]
     },
     "metadata": {},
     "output_type": "display_data"
    }
   ],
   "source": [
    "as.numeric(character_vector_2)"
   ]
  },
  {
   "cell_type": "markdown",
   "metadata": {},
   "source": [
    "<div class=\"alert alert-block alert-warning\">\n",
    "<b>Example:</b> <b>&ltNA&gt</b> indicates that these are missing values, so be careful when converting between classes.\n",
    "</div>"
   ]
  },
  {
   "cell_type": "markdown",
   "metadata": {},
   "source": [
    "# Missing values\n",
    "Missing values can result from things like inappropriate coersion, Excel turning everything into a date, encoding format problems, etc."
   ]
  },
  {
   "cell_type": "code",
   "execution_count": 32,
   "metadata": {},
   "outputs": [
    {
     "name": "stderr",
     "output_type": "stream",
     "text": [
      "Warning message in eval(expr, envir, enclos):\n",
      "“NAs introduced by coercion”"
     ]
    }
   ],
   "source": [
    "here_is_a_vector <- as.numeric(c(4/61, 35/52, '19-May', 3/40))"
   ]
  },
  {
   "cell_type": "markdown",
   "metadata": {},
   "source": [
    "We can use the `is.na()` function to see if our vector has any `<NA>` values in it:"
   ]
  },
  {
   "cell_type": "code",
   "execution_count": 33,
   "metadata": {},
   "outputs": [
    {
     "data": {
      "text/html": [
       "<ol class=list-inline>\n",
       "\t<li>FALSE</li>\n",
       "\t<li>FALSE</li>\n",
       "\t<li>TRUE</li>\n",
       "\t<li>FALSE</li>\n",
       "</ol>\n"
      ],
      "text/latex": [
       "\\begin{enumerate*}\n",
       "\\item FALSE\n",
       "\\item FALSE\n",
       "\\item TRUE\n",
       "\\item FALSE\n",
       "\\end{enumerate*}\n"
      ],
      "text/markdown": [
       "1. FALSE\n",
       "2. FALSE\n",
       "3. TRUE\n",
       "4. FALSE\n",
       "\n",
       "\n"
      ],
      "text/plain": [
       "[1] FALSE FALSE  TRUE FALSE"
      ]
     },
     "metadata": {},
     "output_type": "display_data"
    }
   ],
   "source": [
    "is.na(here_is_a_vector)"
   ]
  },
  {
   "cell_type": "markdown",
   "metadata": {},
   "source": [
    "You can combine this with the `table()` function to see some tabulated results from `is.na()`:"
   ]
  },
  {
   "cell_type": "code",
   "execution_count": 34,
   "metadata": {},
   "outputs": [
    {
     "data": {
      "text/plain": [
       "\n",
       "FALSE  TRUE \n",
       "    3     1 "
      ]
     },
     "metadata": {},
     "output_type": "display_data"
    }
   ],
   "source": [
    "table(is.na(here_is_a_vector))"
   ]
  },
  {
   "cell_type": "markdown",
   "metadata": {},
   "source": [
    "You might also encounter an `NaN`, which means 'not a number' and is the result of invalid math operations:"
   ]
  },
  {
   "cell_type": "code",
   "execution_count": 35,
   "metadata": {},
   "outputs": [
    {
     "data": {
      "text/html": [
       "NaN"
      ],
      "text/latex": [
       "NaN"
      ],
      "text/markdown": [
       "NaN"
      ],
      "text/plain": [
       "[1] NaN"
      ]
     },
     "metadata": {},
     "output_type": "display_data"
    }
   ],
   "source": [
    "0/0"
   ]
  },
  {
   "cell_type": "markdown",
   "metadata": {},
   "source": [
    "`NULL` is another one you might encounter, and it is the result of trying to query a parameter that is undefined for a specific object. For example, you can use the `names()` function to retrieve names assigned to an object. What happens when you try to use this function on an object you haven't named?"
   ]
  },
  {
   "cell_type": "code",
   "execution_count": 36,
   "metadata": {},
   "outputs": [
    {
     "data": {
      "text/plain": [
       "NULL"
      ]
     },
     "metadata": {},
     "output_type": "display_data"
    }
   ],
   "source": [
    "names(here_is_a_vector)"
   ]
  },
  {
   "cell_type": "markdown",
   "metadata": {},
   "source": [
    "You might also see `Inf` or `-Inf` which are positive or negative infinity, which result from dividing by zero or operations that do not converge:"
   ]
  },
  {
   "cell_type": "code",
   "execution_count": 37,
   "metadata": {},
   "outputs": [
    {
     "data": {
      "text/html": [
       "Inf"
      ],
      "text/latex": [
       "Inf"
      ],
      "text/markdown": [
       "Inf"
      ],
      "text/plain": [
       "[1] Inf"
      ]
     },
     "metadata": {},
     "output_type": "display_data"
    }
   ],
   "source": [
    "1/0"
   ]
  },
  {
   "cell_type": "markdown",
   "metadata": {},
   "source": [
    "# Matrices\n",
    "- A matrix in R is a collection of elements organized into rows and columns.\n",
    "- All columns must be the same data type and be the same length.\n",
    "- Generate a matrix using the following general format:\n",
    "\n",
    "```\n",
    "my_matrix <- matrix(\n",
    "    vector, \n",
    "    nrow = r, \n",
    "    ncol = c, \n",
    "    byrow = FALSE)\n",
    "```\n",
    "\n",
    "For example:"
   ]
  },
  {
   "cell_type": "code",
   "execution_count": 38,
   "metadata": {},
   "outputs": [
    {
     "name": "stdout",
     "output_type": "stream",
     "text": [
      "     [,1] [,2] [,3] [,4]\n",
      "[1,]    1    4    7   10\n",
      "[2,]    2    5    8   11\n",
      "[3,]    3    6    9   12\n"
     ]
    }
   ],
   "source": [
    "my_matrix <- matrix(\n",
    "    c(1:12), \n",
    "    nrow = 3, \n",
    "    ncol = 4, \n",
    "    byrow = FALSE)\n",
    "\n",
    "print(my_matrix)"
   ]
  },
  {
   "cell_type": "markdown",
   "metadata": {},
   "source": [
    "In the above code, we made `my_matrix`, we specified it should be populated by the vector `c(1:12)`, with 3 rows (`nrow = 3`) and 4 columns (`ncol = 4`) and be populated by column, not by row (`byrow = FALSE`)"
   ]
  },
  {
   "cell_type": "markdown",
   "metadata": {},
   "source": [
    "We can access the rows and columns by their numerical index using a `[row, column]` format.\n",
    "For example, here's how we access row 3 and column 4:"
   ]
  },
  {
   "cell_type": "code",
   "execution_count": 39,
   "metadata": {},
   "outputs": [
    {
     "data": {
      "text/html": [
       "12"
      ],
      "text/latex": [
       "12"
      ],
      "text/markdown": [
       "12"
      ],
      "text/plain": [
       "[1] 12"
      ]
     },
     "metadata": {},
     "output_type": "display_data"
    }
   ],
   "source": [
    "my_matrix[3,4]"
   ]
  },
  {
   "cell_type": "markdown",
   "metadata": {},
   "source": [
    "Access entire row 3:"
   ]
  },
  {
   "cell_type": "code",
   "execution_count": 40,
   "metadata": {},
   "outputs": [
    {
     "name": "stdout",
     "output_type": "stream",
     "text": [
      "[1]  3  6  9 12\n"
     ]
    }
   ],
   "source": [
    "print(my_matrix[3,])"
   ]
  },
  {
   "cell_type": "markdown",
   "metadata": {},
   "source": [
    "Access entire column 4:"
   ]
  },
  {
   "cell_type": "code",
   "execution_count": 41,
   "metadata": {},
   "outputs": [
    {
     "name": "stdout",
     "output_type": "stream",
     "text": [
      "[1] 10 11 12\n"
     ]
    }
   ],
   "source": [
    "print(my_matrix[,4])"
   ]
  },
  {
   "cell_type": "markdown",
   "metadata": {},
   "source": [
    "You can also name the rows and columns and then access them by name. \n",
    "For example, lets name the rows and columns of `my_matrix`"
   ]
  },
  {
   "cell_type": "code",
   "execution_count": 42,
   "metadata": {},
   "outputs": [],
   "source": [
    "dimnames(my_matrix) <- list(\n",
    "    c('row_1', 'row_2', 'row_3'), \n",
    "    c('column_1', 'column_2', 'column_3', 'column_4'))"
   ]
  },
  {
   "cell_type": "markdown",
   "metadata": {},
   "source": [
    "You can also name the rows and columns separately using `rownames()` and `colnames()` "
   ]
  },
  {
   "cell_type": "code",
   "execution_count": 43,
   "metadata": {},
   "outputs": [],
   "source": [
    "rownames(my_matrix) <- c('row_1', 'row_2', 'row_3')\n",
    "colnames(my_matrix) <- c('column_1', 'column_2', 'column_3', 'column_4')"
   ]
  },
  {
   "cell_type": "code",
   "execution_count": 44,
   "metadata": {},
   "outputs": [
    {
     "name": "stdout",
     "output_type": "stream",
     "text": [
      "      column_1 column_2 column_3 column_4\n",
      "row_1        1        4        7       10\n",
      "row_2        2        5        8       11\n",
      "row_3        3        6        9       12\n"
     ]
    }
   ],
   "source": [
    "print(my_matrix)"
   ]
  },
  {
   "cell_type": "code",
   "execution_count": 45,
   "metadata": {},
   "outputs": [
    {
     "name": "stdout",
     "output_type": "stream",
     "text": [
      "column_1 column_2 column_3 column_4 \n",
      "       2        5        8       11 \n"
     ]
    }
   ],
   "source": [
    "print(my_matrix['row_2',])"
   ]
  },
  {
   "cell_type": "code",
   "execution_count": 46,
   "metadata": {},
   "outputs": [
    {
     "name": "stdout",
     "output_type": "stream",
     "text": [
      "row_1 row_2 row_3 \n",
      "    4     5     6 \n"
     ]
    }
   ],
   "source": [
    "print(my_matrix[,'column_2'])"
   ]
  },
  {
   "cell_type": "markdown",
   "metadata": {},
   "source": [
    "# Arrays\n",
    "- An array can be similar to a matrix but they can have more than 2 dimensions (e.g., more than rows and columns)\n",
    "- So, an array with 1 dimension is similar to a vector and an array with 2 dimensions is similar to a matrix.\n",
    "- Generate an array with the following generic format:\n",
    "\n",
    "```\n",
    "my_array <- array(vector),dim = c(rows, columns, other_dims))\n",
    "```"
   ]
  },
  {
   "cell_type": "code",
   "execution_count": 47,
   "metadata": {},
   "outputs": [
    {
     "name": "stdout",
     "output_type": "stream",
     "text": [
      ", , 1\n",
      "\n",
      "      [,1]\n",
      " [1,]    1\n",
      " [2,]    2\n",
      " [3,]    3\n",
      " [4,]    4\n",
      " [5,]    5\n",
      " [6,]    6\n",
      " [7,]    7\n",
      " [8,]    8\n",
      " [9,]    9\n",
      "[10,]   10\n",
      "[11,]   11\n",
      "[12,]   12\n",
      "\n"
     ]
    }
   ],
   "source": [
    "my_col_array <- array(\n",
    "    c(1:12),\n",
    "    dim = c(12,1,1))\n",
    "print(my_col_array)"
   ]
  },
  {
   "cell_type": "code",
   "execution_count": 48,
   "metadata": {},
   "outputs": [
    {
     "name": "stdout",
     "output_type": "stream",
     "text": [
      ", , 1\n",
      "\n",
      "     [,1] [,2] [,3] [,4] [,5] [,6] [,7] [,8] [,9] [,10] [,11] [,12]\n",
      "[1,]    1    2    3    4    5    6    7    8    9    10    11    12\n",
      "\n"
     ]
    }
   ],
   "source": [
    "my_row_array <- array(\n",
    "    c(1:12),\n",
    "    dim = c(1,12,1))\n",
    "print(my_row_array)"
   ]
  },
  {
   "cell_type": "code",
   "execution_count": 49,
   "metadata": {},
   "outputs": [
    {
     "name": "stdout",
     "output_type": "stream",
     "text": [
      ", , 1\n",
      "\n",
      "     [,1] [,2] [,3] [,4]\n",
      "[1,]    1    4    7   10\n",
      "[2,]    2    5    8   11\n",
      "[3,]    3    6    9   12\n",
      "\n"
     ]
    }
   ],
   "source": [
    "my_array <- array(\n",
    "    c(1:12),\n",
    "    dim = c(3,4,1))\n",
    "print(my_array)"
   ]
  },
  {
   "cell_type": "code",
   "execution_count": 50,
   "metadata": {},
   "outputs": [
    {
     "name": "stdout",
     "output_type": "stream",
     "text": [
      ", , 1\n",
      "\n",
      "     [,1] [,2] [,3] [,4]\n",
      "[1,]    1    4    7   10\n",
      "[2,]    2    5    8   11\n",
      "[3,]    3    6    9   12\n",
      "\n",
      ", , 2\n",
      "\n",
      "     [,1] [,2] [,3] [,4]\n",
      "[1,]   13   16   19   22\n",
      "[2,]   14   17   20   23\n",
      "[3,]   15   18   21   24\n",
      "\n"
     ]
    }
   ],
   "source": [
    "another_array <- array(\n",
    "    c(1:24),\n",
    "    dim = c(3,4,2))\n",
    "print(another_array)"
   ]
  },
  {
   "cell_type": "markdown",
   "metadata": {},
   "source": [
    "Access elements of arrays like this `[row, column, other_dims]`"
   ]
  },
  {
   "cell_type": "code",
   "execution_count": 51,
   "metadata": {},
   "outputs": [
    {
     "name": "stdout",
     "output_type": "stream",
     "text": [
      "[1] 6\n"
     ]
    }
   ],
   "source": [
    "print(another_array[3,2,1])"
   ]
  },
  {
   "cell_type": "code",
   "execution_count": 52,
   "metadata": {},
   "outputs": [
    {
     "name": "stdout",
     "output_type": "stream",
     "text": [
      "[1] 18\n"
     ]
    }
   ],
   "source": [
    "print(another_array[3,2,2])"
   ]
  },
  {
   "cell_type": "markdown",
   "metadata": {},
   "source": [
    "You can also give your array some `dimnames()`:"
   ]
  },
  {
   "cell_type": "code",
   "execution_count": 53,
   "metadata": {},
   "outputs": [
    {
     "name": "stdout",
     "output_type": "stream",
     "text": [
      ", , matrix_1\n",
      "\n",
      "      column_1 column_2 column_3 column_4\n",
      "row_1        1        4        7       10\n",
      "row_2        2        5        8       11\n",
      "row_3        3        6        9       12\n",
      "\n",
      ", , matrix_2\n",
      "\n",
      "      column_1 column_2 column_3 column_4\n",
      "row_1       13       16       19       22\n",
      "row_2       14       17       20       23\n",
      "row_3       15       18       21       24\n",
      "\n"
     ]
    }
   ],
   "source": [
    "dimnames(another_array) <- list(\n",
    "    c('row_1', 'row_2', 'row_3'), \n",
    "    c('column_1', 'column_2', 'column_3', 'column_4'),\n",
    "    c('matrix_1', 'matrix_2'))\n",
    "print(another_array)"
   ]
  },
  {
   "cell_type": "markdown",
   "metadata": {},
   "source": [
    "Then access your array elements by name:"
   ]
  },
  {
   "cell_type": "code",
   "execution_count": 54,
   "metadata": {},
   "outputs": [
    {
     "name": "stdout",
     "output_type": "stream",
     "text": [
      "[1] 6\n"
     ]
    }
   ],
   "source": [
    "print(another_array['row_3', 'column_2', 'matrix_1'])"
   ]
  },
  {
   "cell_type": "code",
   "execution_count": 55,
   "metadata": {},
   "outputs": [
    {
     "name": "stdout",
     "output_type": "stream",
     "text": [
      "column_1 column_2 column_3 column_4 \n",
      "       3        6        9       12 \n"
     ]
    }
   ],
   "source": [
    "print(another_array['row_3',,'matrix_1'])"
   ]
  },
  {
   "cell_type": "markdown",
   "metadata": {},
   "source": [
    "# Lists"
   ]
  },
  {
   "cell_type": "markdown",
   "metadata": {},
   "source": [
    "- Lists in R are very flexible, they are collections of elements that can be different classes, structures, whatever. You can even have lists of lists.\n",
    "- You make lists using the `list()` function (or by coersion using `as.list()`."
   ]
  },
  {
   "cell_type": "code",
   "execution_count": 56,
   "metadata": {},
   "outputs": [
    {
     "name": "stdout",
     "output_type": "stream",
     "text": [
      "[[1]]\n",
      "[1] \"one\"   \"two\"   \"three\" \"four\"  \"five\" \n",
      "\n",
      "[[2]]\n",
      ", , 1\n",
      "\n",
      "     [,1] [,2] [,3] [,4]\n",
      "[1,]    1    4    7   10\n",
      "[2,]    2    5    8   11\n",
      "[3,]    3    6    9   12\n",
      "\n",
      "\n",
      "[[3]]\n",
      "      column_1 column_2 column_3 column_4\n",
      "row_1        1        4        7       10\n",
      "row_2        2        5        8       11\n",
      "row_3        3        6        9       12\n",
      "\n"
     ]
    }
   ],
   "source": [
    "my_list <- list(character_vector, my_array, my_matrix)\n",
    "print(my_list)"
   ]
  },
  {
   "cell_type": "markdown",
   "metadata": {},
   "source": [
    "Use `[[]]` to access list elements:"
   ]
  },
  {
   "cell_type": "code",
   "execution_count": 57,
   "metadata": {},
   "outputs": [
    {
     "name": "stdout",
     "output_type": "stream",
     "text": [
      "      column_1 column_2 column_3 column_4\n",
      "row_1        1        4        7       10\n",
      "row_2        2        5        8       11\n",
      "row_3        3        6        9       12\n"
     ]
    }
   ],
   "source": [
    "print(my_list[[3]])"
   ]
  },
  {
   "cell_type": "markdown",
   "metadata": {},
   "source": [
    "Add more brackets to access sub-elements of a list:"
   ]
  },
  {
   "cell_type": "code",
   "execution_count": 58,
   "metadata": {},
   "outputs": [
    {
     "name": "stdout",
     "output_type": "stream",
     "text": [
      "[1] 1\n"
     ]
    }
   ],
   "source": [
    "print(my_list[[3]][1])"
   ]
  },
  {
   "cell_type": "code",
   "execution_count": 59,
   "metadata": {},
   "outputs": [
    {
     "name": "stdout",
     "output_type": "stream",
     "text": [
      "column_1 column_2 column_3 column_4 \n",
      "       1        4        7       10 \n"
     ]
    }
   ],
   "source": [
    "print(my_list[[3]][1,])"
   ]
  },
  {
   "cell_type": "markdown",
   "metadata": {},
   "source": [
    "Name the list elements:"
   ]
  },
  {
   "cell_type": "code",
   "execution_count": 60,
   "metadata": {},
   "outputs": [
    {
     "name": "stdout",
     "output_type": "stream",
     "text": [
      "$character_vector\n",
      "[1] \"one\"   \"two\"   \"three\" \"four\"  \"five\" \n",
      "\n",
      "$my_array\n",
      ", , 1\n",
      "\n",
      "     [,1] [,2] [,3] [,4]\n",
      "[1,]    1    4    7   10\n",
      "[2,]    2    5    8   11\n",
      "[3,]    3    6    9   12\n",
      "\n",
      "\n",
      "$my_matrix\n",
      "      column_1 column_2 column_3 column_4\n",
      "row_1        1        4        7       10\n",
      "row_2        2        5        8       11\n",
      "row_3        3        6        9       12\n",
      "\n"
     ]
    }
   ],
   "source": [
    "names(my_list) <- c('character_vector', 'my_array', 'my_matrix')\n",
    "print(my_list)"
   ]
  },
  {
   "cell_type": "markdown",
   "metadata": {},
   "source": [
    "Use `unlist()` if you want to convert a list to a vector, let's make a new list (`list_1`)"
   ]
  },
  {
   "cell_type": "code",
   "execution_count": 61,
   "metadata": {},
   "outputs": [
    {
     "name": "stdout",
     "output_type": "stream",
     "text": [
      "[[1]]\n",
      "[1] 1 2 3 4 5\n",
      "\n"
     ]
    }
   ],
   "source": [
    "list_1 <- list(1:5)\n",
    "print(list_1)"
   ]
  },
  {
   "cell_type": "markdown",
   "metadata": {},
   "source": [
    "Use `str()` to look at the structure"
   ]
  },
  {
   "cell_type": "code",
   "execution_count": 62,
   "metadata": {},
   "outputs": [
    {
     "name": "stdout",
     "output_type": "stream",
     "text": [
      "List of 1\n",
      " $ : int [1:5] 1 2 3 4 5\n"
     ]
    }
   ],
   "source": [
    "str(list_1)"
   ]
  },
  {
   "cell_type": "markdown",
   "metadata": {},
   "source": [
    "Then `unlist()` and look at the structure"
   ]
  },
  {
   "cell_type": "code",
   "execution_count": 63,
   "metadata": {},
   "outputs": [
    {
     "name": "stdout",
     "output_type": "stream",
     "text": [
      "[1] 1 2 3 4 5\n",
      " int [1:5] 1 2 3 4 5\n"
     ]
    }
   ],
   "source": [
    "print(unlist(list_1))\n",
    "str(unlist(list_1))"
   ]
  },
  {
   "cell_type": "markdown",
   "metadata": {},
   "source": [
    "# Data Frames\n",
    "\n",
    "- A data frame is another way to organize a collection of rows and columns.\n",
    "- It is a collection of lists organized into columns.\n",
    "- It is similar to a matrix, except data frames allow different data types in different columns.\n",
    "- We can use the `data.frame()` function to create a data frame from vectors using the following format:\n",
    "\n",
    "```\n",
    "dataframe <- data.frame(column_1, column_2, column_3)\n",
    "```"
   ]
  },
  {
   "cell_type": "code",
   "execution_count": 64,
   "metadata": {},
   "outputs": [
    {
     "name": "stdout",
     "output_type": "stream",
     "text": [
      "  c..a....b....c.. c.1..3..5. c.TRUE..TRUE..FALSE.\n",
      "1                a          1                 TRUE\n",
      "2                b          3                 TRUE\n",
      "3                c          5                FALSE\n"
     ]
    }
   ],
   "source": [
    "example_df <- data.frame(\n",
    "    c('a','b','c'), \n",
    "    c(1, 3, 5), \n",
    "    c(TRUE, TRUE, FALSE))\n",
    "\n",
    "print(example_df)"
   ]
  },
  {
   "cell_type": "markdown",
   "metadata": {},
   "source": [
    "Use `names()` or `colnames()` to name columns,  `rownames()` to name rows, or `dimnames()` to assign both column and row names to the data frame:"
   ]
  },
  {
   "cell_type": "code",
   "execution_count": 65,
   "metadata": {},
   "outputs": [
    {
     "name": "stdout",
     "output_type": "stream",
     "text": [
      "       letters numbers boolean\n",
      "first        a       1    TRUE\n",
      "second       b       3    TRUE\n",
      "             c       5   FALSE\n"
     ]
    }
   ],
   "source": [
    "colnames(example_df) <- c('letters', 'numbers', 'boolean')\n",
    "rownames(example_df) <- c('first', 'second', '')\n",
    "print(example_df)"
   ]
  },
  {
   "cell_type": "code",
   "execution_count": 66,
   "metadata": {},
   "outputs": [
    {
     "name": "stdout",
     "output_type": "stream",
     "text": [
      "       _letters_ _numbers_ _boolean_\n",
      "first          a         1      TRUE\n",
      "second         b         3      TRUE\n",
      "               c         5     FALSE\n"
     ]
    }
   ],
   "source": [
    "names(example_df) <- c('_letters_', '_numbers_', '_boolean_')\n",
    "print(example_df)"
   ]
  },
  {
   "cell_type": "code",
   "execution_count": 67,
   "metadata": {},
   "outputs": [
    {
     "name": "stdout",
     "output_type": "stream",
     "text": [
      "         __letters __numbers __boolean\n",
      "__first          a         1      TRUE\n",
      "__second         b         3      TRUE\n",
      "__third          c         5     FALSE\n"
     ]
    }
   ],
   "source": [
    "dimnames(example_df) <- list(c('__first', '__second', '__third'), c('__letters', '__numbers', '__boolean'))\n",
    "print(example_df)"
   ]
  },
  {
   "cell_type": "markdown",
   "metadata": {},
   "source": [
    "We can use the `attributes()` and `str()` functions to get some information about our data frame:"
   ]
  },
  {
   "cell_type": "code",
   "execution_count": 68,
   "metadata": {},
   "outputs": [
    {
     "data": {
      "text/html": [
       "<dl>\n",
       "\t<dt>$names</dt>\n",
       "\t\t<dd><ol class=list-inline>\n",
       "\t<li>'__letters'</li>\n",
       "\t<li>'__numbers'</li>\n",
       "\t<li>'__boolean'</li>\n",
       "</ol>\n",
       "</dd>\n",
       "\t<dt>$class</dt>\n",
       "\t\t<dd>'data.frame'</dd>\n",
       "\t<dt>$row.names</dt>\n",
       "\t\t<dd><ol class=list-inline>\n",
       "\t<li>'__first'</li>\n",
       "\t<li>'__second'</li>\n",
       "\t<li>'__third'</li>\n",
       "</ol>\n",
       "</dd>\n",
       "</dl>\n"
      ],
      "text/latex": [
       "\\begin{description}\n",
       "\\item[\\$names] \\begin{enumerate*}\n",
       "\\item '\\_\\_letters'\n",
       "\\item '\\_\\_numbers'\n",
       "\\item '\\_\\_boolean'\n",
       "\\end{enumerate*}\n",
       "\n",
       "\\item[\\$class] 'data.frame'\n",
       "\\item[\\$row.names] \\begin{enumerate*}\n",
       "\\item '\\_\\_first'\n",
       "\\item '\\_\\_second'\n",
       "\\item '\\_\\_third'\n",
       "\\end{enumerate*}\n",
       "\n",
       "\\end{description}\n"
      ],
      "text/markdown": [
       "$names\n",
       ":   1. '__letters'\n",
       "2. '__numbers'\n",
       "3. '__boolean'\n",
       "\n",
       "\n",
       "\n",
       "$class\n",
       ":   'data.frame'\n",
       "$row.names\n",
       ":   1. '__first'\n",
       "2. '__second'\n",
       "3. '__third'\n",
       "\n",
       "\n",
       "\n",
       "\n",
       "\n"
      ],
      "text/plain": [
       "$names\n",
       "[1] \"__letters\" \"__numbers\" \"__boolean\"\n",
       "\n",
       "$class\n",
       "[1] \"data.frame\"\n",
       "\n",
       "$row.names\n",
       "[1] \"__first\"  \"__second\" \"__third\" \n"
      ]
     },
     "metadata": {},
     "output_type": "display_data"
    }
   ],
   "source": [
    "attributes(example_df)"
   ]
  },
  {
   "cell_type": "code",
   "execution_count": 69,
   "metadata": {},
   "outputs": [
    {
     "name": "stdout",
     "output_type": "stream",
     "text": [
      "'data.frame':\t3 obs. of  3 variables:\n",
      " $ __letters: Factor w/ 3 levels \"a\",\"b\",\"c\": 1 2 3\n",
      " $ __numbers: num  1 3 5\n",
      " $ __boolean: logi  TRUE TRUE FALSE\n"
     ]
    }
   ],
   "source": [
    "str(example_df)"
   ]
  },
  {
   "cell_type": "markdown",
   "metadata": {},
   "source": [
    "# Adding columns to a data frame"
   ]
  },
  {
   "cell_type": "markdown",
   "metadata": {},
   "source": [
    "Let's make a new example dataframe to work with:"
   ]
  },
  {
   "cell_type": "code",
   "execution_count": 70,
   "metadata": {},
   "outputs": [
    {
     "name": "stdout",
     "output_type": "stream",
     "text": [
      "  c..Boo....Rex....Chuckles.. c.1..3..5. c..dog....dog....dog..\n",
      "1                         Boo          1                    dog\n",
      "2                         Rex          3                    dog\n",
      "3                    Chuckles          5                    dog\n"
     ]
    }
   ],
   "source": [
    "patients_1 <- data.frame(\n",
    "    c('Boo','Rex','Chuckles'), \n",
    "    c(1, 3, 5), \n",
    "    c('dog', 'dog', 'dog'))\n",
    "print(patients_1)"
   ]
  },
  {
   "cell_type": "markdown",
   "metadata": {},
   "source": [
    "Use `names()` or `colnames()` to name columns,  `rownames()` to name rows, or `dimnames()` to assign both column and row names to the data frame.\n",
    "Here we will use `names()` to namethe columns:"
   ]
  },
  {
   "cell_type": "code",
   "execution_count": 71,
   "metadata": {},
   "outputs": [
    {
     "name": "stdout",
     "output_type": "stream",
     "text": [
      "      name number_of_visits type\n",
      "1      Boo                1  dog\n",
      "2      Rex                3  dog\n",
      "3 Chuckles                5  dog\n"
     ]
    }
   ],
   "source": [
    "names(patients_1) <- c('name', 'number_of_visits', 'type')\n",
    "print(patients_1)"
   ]
  },
  {
   "cell_type": "markdown",
   "metadata": {},
   "source": [
    "We can use the column names to extract a single column using the notation `dataframe$column`, e.g.:"
   ]
  },
  {
   "cell_type": "code",
   "execution_count": 72,
   "metadata": {},
   "outputs": [
    {
     "name": "stdout",
     "output_type": "stream",
     "text": [
      "[1] Boo      Rex      Chuckles\n",
      "Levels: Boo Chuckles Rex\n"
     ]
    }
   ],
   "source": [
    "print(patients_1$name)"
   ]
  },
  {
   "cell_type": "markdown",
   "metadata": {},
   "source": [
    "The `cbind()` function can be used to add more columns to a dataframe:"
   ]
  },
  {
   "cell_type": "code",
   "execution_count": 73,
   "metadata": {},
   "outputs": [
    {
     "name": "stdout",
     "output_type": "stream",
     "text": [
      "      name number_of_visits type column_4\n",
      "1      Boo                1  dog        4\n",
      "2      Rex                3  dog        2\n",
      "3 Chuckles                5  dog        6\n"
     ]
    }
   ],
   "source": [
    "column_4 <- c(4, 2, 6)\n",
    "patients_1 <- cbind(patients_1, column_4)\n",
    "print(patients_1)"
   ]
  },
  {
   "cell_type": "markdown",
   "metadata": {},
   "source": [
    "We can also rename individual columns of the dataframe using index notation, lets rename the 4th column we just added:"
   ]
  },
  {
   "cell_type": "code",
   "execution_count": 74,
   "metadata": {},
   "outputs": [
    {
     "name": "stdout",
     "output_type": "stream",
     "text": [
      "      name number_of_visits type age_in_years\n",
      "1      Boo                1  dog            4\n",
      "2      Rex                3  dog            2\n",
      "3 Chuckles                5  dog            6\n"
     ]
    }
   ],
   "source": [
    "colnames(patients_1)[4] <- 'age_in_years'\n",
    "print(patients_1)"
   ]
  },
  {
   "cell_type": "markdown",
   "metadata": {},
   "source": [
    "We can also use the `dataframe$column` notation to add a new column and name it at the same time:"
   ]
  },
  {
   "cell_type": "code",
   "execution_count": 75,
   "metadata": {},
   "outputs": [
    {
     "name": "stdout",
     "output_type": "stream",
     "text": [
      "      name number_of_visits type age_in_years weight_in_pounds\n",
      "1      Boo                1  dog            4               35\n",
      "2      Rex                3  dog            2               75\n",
      "3 Chuckles                5  dog            6               15\n"
     ]
    }
   ],
   "source": [
    "patients_1$weight_in_pounds <- c(35, 75, 15)\n",
    "print(patients_1)"
   ]
  },
  {
   "cell_type": "markdown",
   "metadata": {},
   "source": [
    "Let's use `str()` and `attributes()` functions to look at the structure and attributes of this data frame:"
   ]
  },
  {
   "cell_type": "code",
   "execution_count": 76,
   "metadata": {},
   "outputs": [
    {
     "name": "stdout",
     "output_type": "stream",
     "text": [
      "'data.frame':\t3 obs. of  5 variables:\n",
      " $ name            : Factor w/ 3 levels \"Boo\",\"Chuckles\",..: 1 3 2\n",
      " $ number_of_visits: num  1 3 5\n",
      " $ type            : Factor w/ 1 level \"dog\": 1 1 1\n",
      " $ age_in_years    : num  4 2 6\n",
      " $ weight_in_pounds: num  35 75 15\n"
     ]
    }
   ],
   "source": [
    "str(patients_1)"
   ]
  },
  {
   "cell_type": "code",
   "execution_count": 77,
   "metadata": {},
   "outputs": [
    {
     "data": {
      "text/html": [
       "<dl>\n",
       "\t<dt>$levels</dt>\n",
       "\t\t<dd><ol class=list-inline>\n",
       "\t<li>'Boo'</li>\n",
       "\t<li>'Chuckles'</li>\n",
       "\t<li>'Rex'</li>\n",
       "</ol>\n",
       "</dd>\n",
       "\t<dt>$class</dt>\n",
       "\t\t<dd>'factor'</dd>\n",
       "</dl>\n"
      ],
      "text/latex": [
       "\\begin{description}\n",
       "\\item[\\$levels] \\begin{enumerate*}\n",
       "\\item 'Boo'\n",
       "\\item 'Chuckles'\n",
       "\\item 'Rex'\n",
       "\\end{enumerate*}\n",
       "\n",
       "\\item[\\$class] 'factor'\n",
       "\\end{description}\n"
      ],
      "text/markdown": [
       "$levels\n",
       ":   1. 'Boo'\n",
       "2. 'Chuckles'\n",
       "3. 'Rex'\n",
       "\n",
       "\n",
       "\n",
       "$class\n",
       ":   'factor'\n",
       "\n",
       "\n"
      ],
      "text/plain": [
       "$levels\n",
       "[1] \"Boo\"      \"Chuckles\" \"Rex\"     \n",
       "\n",
       "$class\n",
       "[1] \"factor\"\n"
      ]
     },
     "metadata": {},
     "output_type": "display_data"
    }
   ],
   "source": [
    "attributes(patients_1$name)"
   ]
  },
  {
   "cell_type": "markdown",
   "metadata": {},
   "source": [
    "**Notice that `patients_1$name` is a factor with three levels...**"
   ]
  },
  {
   "cell_type": "markdown",
   "metadata": {},
   "source": [
    "# Factors\n",
    "- In some situations, you might be dealing with categorical variable, which is known as a factor variable in R. \n",
    "- A factor is a type of variable that has a set number of distinct categories into which all observations fall, which are the levels.\n",
    "\n",
    "*Factor variables are important because R's default behavior when reading in text files is to convert that text into a factor variable rather than a character variable, which can often lead to weird behavior if the user is trying to e.g. search that text.*\n",
    "- In addition to `cbind()` for adding columns, there is another function in R called `rbind()`, which adds new rows to a data frame.\n",
    "- Let's see what happens when we try to add a new row to our data frame:"
   ]
  },
  {
   "cell_type": "code",
   "execution_count": 78,
   "metadata": {},
   "outputs": [
    {
     "name": "stderr",
     "output_type": "stream",
     "text": [
      "Warning message in `[<-.factor`(`*tmp*`, ri, value = \"Fluffy\"):\n",
      "“invalid factor level, NA generated”"
     ]
    },
    {
     "name": "stdout",
     "output_type": "stream",
     "text": [
      "      name number_of_visits type age_in_years weight_in_pounds\n",
      "1      Boo                1  dog            4               35\n",
      "2      Rex                3  dog            2               75\n",
      "3 Chuckles                5  dog            6               15\n",
      "4     <NA>                2  dog            8              105\n"
     ]
    }
   ],
   "source": [
    "patients_1_rbind <- rbind(patients_1, c('Fluffy', 2, 'dog', 8, 105))\n",
    "print(patients_1_rbind)"
   ]
  },
  {
   "cell_type": "markdown",
   "metadata": {},
   "source": [
    "- The `patients_1$name` column is classed as a `factor`, and the factors levels are `Boo`, `Chuckles`, and `Rex`. \n",
    "- Recall that a factor is a type of variable that has a **set number of distinct categories into which all observations fall, which are the levels.**\n",
    "- R isn't sure what to do with the new level we are trying to add (`Fluffy`), so we have to turn those factors into strings."
   ]
  },
  {
   "cell_type": "markdown",
   "metadata": {},
   "source": [
    "We can convert the `patients_1$name` column to a character as follows:"
   ]
  },
  {
   "cell_type": "code",
   "execution_count": 79,
   "metadata": {},
   "outputs": [
    {
     "name": "stdout",
     "output_type": "stream",
     "text": [
      "'data.frame':\t3 obs. of  5 variables:\n",
      " $ name            : chr  \"Boo\" \"Rex\" \"Chuckles\"\n",
      " $ number_of_visits: num  1 3 5\n",
      " $ type            : Factor w/ 1 level \"dog\": 1 1 1\n",
      " $ age_in_years    : num  4 2 6\n",
      " $ weight_in_pounds: num  35 75 15\n"
     ]
    }
   ],
   "source": [
    "patients_1$name <- as.character(patients_1$name)\n",
    "str(patients_1)"
   ]
  },
  {
   "cell_type": "markdown",
   "metadata": {},
   "source": [
    "Now we can use `rbind()` to add a new row:"
   ]
  },
  {
   "cell_type": "code",
   "execution_count": 80,
   "metadata": {},
   "outputs": [
    {
     "name": "stdout",
     "output_type": "stream",
     "text": [
      "      name number_of_visits type age_in_years weight_in_pounds\n",
      "1      Boo                1  dog            4               35\n",
      "2      Rex                3  dog            2               75\n",
      "3 Chuckles                5  dog            6               15\n",
      "4   Fluffy                2  dog            8              105\n"
     ]
    }
   ],
   "source": [
    "patients_1 <- rbind(patients_1, c('Fluffy', 2, 'dog', 8, 105))\n",
    "print(patients_1)"
   ]
  },
  {
   "cell_type": "markdown",
   "metadata": {},
   "source": [
    "# Re-ordering factor levels\n",
    "- You might have ordinal data, like the following:"
   ]
  },
  {
   "cell_type": "code",
   "execution_count": 81,
   "metadata": {},
   "outputs": [],
   "source": [
    "sizes <- factor(c('extra small', 'small', 'large', 'extra large', 'large', 'small', 'medium', 'medium', 'medium', 'medium', 'medium'))"
   ]
  },
  {
   "cell_type": "markdown",
   "metadata": {},
   "source": [
    "Use the `table()` function to look at the vector:"
   ]
  },
  {
   "cell_type": "code",
   "execution_count": 82,
   "metadata": {},
   "outputs": [
    {
     "data": {
      "text/plain": [
       "sizes\n",
       "extra large extra small       large      medium       small \n",
       "          1           1           2           5           2 "
      ]
     },
     "metadata": {},
     "output_type": "display_data"
    }
   ],
   "source": [
    "table(sizes)"
   ]
  },
  {
   "cell_type": "markdown",
   "metadata": {},
   "source": [
    "We might not necessarily want the factor levels in alphabetical order. You can re-order them like so:"
   ]
  },
  {
   "cell_type": "code",
   "execution_count": 83,
   "metadata": {},
   "outputs": [
    {
     "data": {
      "text/plain": [
       "sizes_sorted\n",
       "extra small       small      medium       large extra large \n",
       "          1           2           5           2           1 "
      ]
     },
     "metadata": {},
     "output_type": "display_data"
    }
   ],
   "source": [
    "sizes_sorted <- factor(sizes, levels = c('extra small', 'small', 'medium', 'large', 'extra large'))\n",
    "table(sizes_sorted)"
   ]
  },
  {
   "cell_type": "markdown",
   "metadata": {},
   "source": [
    "You can also use the `relevel()` function to specify that there's a single factor you'd like to use as the reference factor, which will now be the first factor:"
   ]
  },
  {
   "cell_type": "code",
   "execution_count": 84,
   "metadata": {},
   "outputs": [
    {
     "data": {
      "text/plain": [
       "sizes_releveled\n",
       "     medium extra large extra small       large       small \n",
       "          5           1           1           2           2 "
      ]
     },
     "metadata": {},
     "output_type": "display_data"
    }
   ],
   "source": [
    "sizes_releveled <- relevel(sizes, 'medium')\n",
    "table(sizes_releveled)"
   ]
  },
  {
   "cell_type": "markdown",
   "metadata": {},
   "source": [
    "You can also coerce a factor to a character:"
   ]
  },
  {
   "cell_type": "code",
   "execution_count": 85,
   "metadata": {},
   "outputs": [
    {
     "data": {
      "text/html": [
       "'character'"
      ],
      "text/latex": [
       "'character'"
      ],
      "text/markdown": [
       "'character'"
      ],
      "text/plain": [
       "[1] \"character\""
      ]
     },
     "metadata": {},
     "output_type": "display_data"
    },
    {
     "name": "stdout",
     "output_type": "stream",
     "text": [
      " [1] \"extra small\" \"small\"       \"large\"       \"extra large\" \"large\"      \n",
      " [6] \"small\"       \"medium\"      \"medium\"      \"medium\"      \"medium\"     \n",
      "[11] \"medium\"     \n"
     ]
    }
   ],
   "source": [
    "character_vector <- as.character(sizes)\n",
    "class(character_vector)\n",
    "print(character_vector)"
   ]
  },
  {
   "cell_type": "markdown",
   "metadata": {},
   "source": [
    "Notice that print doesn't return the `Levels` and each element of the vector is now in quotes.\n",
    "It is also possible to convert a factor into a numeric vector if you want to:"
   ]
  },
  {
   "cell_type": "code",
   "execution_count": 86,
   "metadata": {},
   "outputs": [
    {
     "name": "stdout",
     "output_type": "stream",
     "text": [
      " [1] extra small small       large       extra large large       small      \n",
      " [7] medium      medium      medium      medium      medium     \n",
      "Levels: extra large extra small large medium small\n",
      " [1] 2 5 3 1 3 5 4 4 4 4 4\n"
     ]
    }
   ],
   "source": [
    "print(sizes)\n",
    "numeric_vector <- as.numeric(sizes)\n",
    "print(numeric_vector)"
   ]
  },
  {
   "cell_type": "markdown",
   "metadata": {},
   "source": [
    "This assigns numerical values based on alphabetical order of `sizes`"
   ]
  },
  {
   "cell_type": "code",
   "execution_count": 87,
   "metadata": {},
   "outputs": [
    {
     "name": "stdout",
     "output_type": "stream",
     "text": [
      " [1] extra small small       large       extra large large       small      \n",
      " [7] medium      medium      medium      medium      medium     \n",
      "Levels: extra small small medium large extra large\n",
      " [1] 1 2 4 5 4 2 3 3 3 3 3\n"
     ]
    }
   ],
   "source": [
    "print(sizes_sorted)\n",
    "ordered_numeric_vector <- as.numeric(sizes_sorted)\n",
    "print(ordered_numeric_vector)"
   ]
  },
  {
   "cell_type": "markdown",
   "metadata": {},
   "source": [
    "This assigns numerical values based on the levels you set when you created `sizes_sorted`"
   ]
  },
  {
   "cell_type": "markdown",
   "metadata": {},
   "source": [
    "# Data frame merging\n",
    "Data is often spread across more than one file, reading each file into R will result in more than one data frame. If the data frames have some common identifying column, we can use that common ID to combine the data frames. \n",
    "\n",
    "For example:"
   ]
  },
  {
   "cell_type": "code",
   "execution_count": 88,
   "metadata": {},
   "outputs": [
    {
     "name": "stdout",
     "output_type": "stream",
     "text": [
      "      name number_of_visits type age_in_years weight_in_pounds\n",
      "1      Boo                1  dog            4               35\n",
      "2      Rex                3  dog            2               75\n",
      "3 Chuckles                5  dog            6               15\n",
      "4   Fluffy                2  dog            8              105\n"
     ]
    }
   ],
   "source": [
    "print(patients_1)"
   ]
  },
  {
   "cell_type": "markdown",
   "metadata": {},
   "source": [
    "Let's make another data frame:"
   ]
  },
  {
   "cell_type": "code",
   "execution_count": 89,
   "metadata": {},
   "outputs": [
    {
     "name": "stdout",
     "output_type": "stream",
     "text": [
      "    name number_of_visits type age_in_years\n",
      "1 Fluffy                1  cat            1\n",
      "2 Smokey                1  dog            3\n",
      "3  Kitty                2  cat            5\n"
     ]
    }
   ],
   "source": [
    "patients_2 <- data.frame(\n",
    "    c('Fluffy', 'Smokey', 'Kitty'), \n",
    "    c(1, 1, 2), \n",
    "    c('cat', 'dog', 'cat'),\n",
    "    c(1, 3, 5))\n",
    "colnames(patients_2) <- c('name', 'number_of_visits', 'type', 'age_in_years')\n",
    "print(patients_2)"
   ]
  },
  {
   "cell_type": "markdown",
   "metadata": {},
   "source": [
    "We can use the `merge()` function to combine them:"
   ]
  },
  {
   "cell_type": "code",
   "execution_count": 90,
   "metadata": {},
   "outputs": [
    {
     "name": "stdout",
     "output_type": "stream",
     "text": [
      "      name number_of_visits type age_in_years weight_in_pounds\n",
      "1      Boo                1  dog            4               35\n",
      "2 Chuckles                5  dog            6               15\n",
      "3   Fluffy                1  cat            1             <NA>\n",
      "4   Fluffy                2  dog            8              105\n",
      "5    Kitty                2  cat            5             <NA>\n",
      "6      Rex                3  dog            2               75\n",
      "7   Smokey                1  dog            3             <NA>\n"
     ]
    }
   ],
   "source": [
    "patients_df <- merge(patients_1, patients_2, all = TRUE)\n",
    "print(patients_df)"
   ]
  },
  {
   "cell_type": "markdown",
   "metadata": {},
   "source": [
    "- Using `all = TRUE` will fill in blank values if needed (for example, the weight of any of the animals in `patients_2`).\n",
    "- You can also return only the first data frame specified using the `all.x = TRUE` argument"
   ]
  },
  {
   "cell_type": "code",
   "execution_count": 91,
   "metadata": {},
   "outputs": [
    {
     "name": "stdout",
     "output_type": "stream",
     "text": [
      "      name number_of_visits type age_in_years weight_in_pounds\n",
      "1      Boo                1  dog            4               35\n",
      "2 Chuckles                5  dog            6               15\n",
      "3   Fluffy                2  dog            8              105\n",
      "4      Rex                3  dog            2               75\n"
     ]
    }
   ],
   "source": [
    "patients_df <- merge(patients_1, patients_2, all.x = TRUE)\n",
    "print(patients_df)"
   ]
  },
  {
   "cell_type": "markdown",
   "metadata": {},
   "source": [
    "- Similarly, return only the second data frame specified using the `all.y = TRUE` argument:"
   ]
  },
  {
   "cell_type": "code",
   "execution_count": 92,
   "metadata": {},
   "outputs": [
    {
     "name": "stdout",
     "output_type": "stream",
     "text": [
      "    name number_of_visits type age_in_years weight_in_pounds\n",
      "1 Fluffy                1  cat            1             <NA>\n",
      "2  Kitty                2  cat            5             <NA>\n",
      "3 Smokey                1  dog            3             <NA>\n"
     ]
    }
   ],
   "source": [
    "patients_df <- merge(patients_1, patients_2, all.y = TRUE)\n",
    "print(patients_df)"
   ]
  },
  {
   "cell_type": "markdown",
   "metadata": {},
   "source": [
    "You can also specify which columns to join on:"
   ]
  },
  {
   "cell_type": "code",
   "execution_count": 93,
   "metadata": {},
   "outputs": [
    {
     "name": "stdout",
     "output_type": "stream",
     "text": [
      "      name type number_of_visits age_in_years weight_in_pounds\n",
      "1      Boo  dog                1            4               35\n",
      "2 Chuckles  dog                5            6               15\n",
      "3   Fluffy  dog                2            8              105\n",
      "4   Fluffy  cat                1            1             <NA>\n",
      "5    Kitty  cat                2            5             <NA>\n",
      "6      Rex  dog                3            2               75\n",
      "7   Smokey  dog                1            3             <NA>\n"
     ]
    }
   ],
   "source": [
    "patients_df <- merge(patients_1, patients_2, by = c('name', 'type', 'number_of_visits', 'age_in_years'), all = TRUE)\n",
    "print(patients_df)"
   ]
  },
  {
   "cell_type": "markdown",
   "metadata": {},
   "source": [
    "# Built-in functions\n",
    "- We have already used a few functions in this workshop (like print). \n",
    "- Functions are a series of statements that work together to form a specific task.\n",
    "- All functions need pieces of information (or arguments) to perform their particular function. \n",
    "- Sometimes arguments are required, sometimes arguments are optional -- for example, `print()` requires only one argument -- the thing you want to print.\n",
    "- R comes with some pre-loaded data sets -- you see the list by typing `print(data())`, but it is quite long.\n",
    "\n",
    "Load the `DNase` data and turn it into a data frame:\n"
   ]
  },
  {
   "cell_type": "code",
   "execution_count": 94,
   "metadata": {},
   "outputs": [],
   "source": [
    "data(DNase)\n",
    "DNase <- data.frame(DNase)"
   ]
  },
  {
   "cell_type": "markdown",
   "metadata": {},
   "source": [
    "Let's use the `dim()`, `nrow()`, and `ncol()` functions to get the number of rows (`nrow()`), number of columns (`nrow()`), and number of both rows and columns (`dim()`)"
   ]
  },
  {
   "cell_type": "code",
   "execution_count": 95,
   "metadata": {},
   "outputs": [
    {
     "data": {
      "text/html": [
       "<ol class=list-inline>\n",
       "\t<li>176</li>\n",
       "\t<li>3</li>\n",
       "</ol>\n"
      ],
      "text/latex": [
       "\\begin{enumerate*}\n",
       "\\item 176\n",
       "\\item 3\n",
       "\\end{enumerate*}\n"
      ],
      "text/markdown": [
       "1. 176\n",
       "2. 3\n",
       "\n",
       "\n"
      ],
      "text/plain": [
       "[1] 176   3"
      ]
     },
     "metadata": {},
     "output_type": "display_data"
    }
   ],
   "source": [
    "dim(DNase)"
   ]
  },
  {
   "cell_type": "code",
   "execution_count": 96,
   "metadata": {},
   "outputs": [
    {
     "data": {
      "text/html": [
       "176"
      ],
      "text/latex": [
       "176"
      ],
      "text/markdown": [
       "176"
      ],
      "text/plain": [
       "[1] 176"
      ]
     },
     "metadata": {},
     "output_type": "display_data"
    }
   ],
   "source": [
    "nrow(DNase)"
   ]
  },
  {
   "cell_type": "code",
   "execution_count": 97,
   "metadata": {},
   "outputs": [
    {
     "data": {
      "text/html": [
       "3"
      ],
      "text/latex": [
       "3"
      ],
      "text/markdown": [
       "3"
      ],
      "text/plain": [
       "[1] 3"
      ]
     },
     "metadata": {},
     "output_type": "display_data"
    }
   ],
   "source": [
    "ncol(DNase)"
   ]
  },
  {
   "cell_type": "markdown",
   "metadata": {},
   "source": [
    "We can use the `head()` function to look at the first few lines of the data frame:"
   ]
  },
  {
   "cell_type": "code",
   "execution_count": 98,
   "metadata": {},
   "outputs": [
    {
     "data": {
      "text/html": [
       "<table>\n",
       "<caption>A data.frame: 6 × 3</caption>\n",
       "<thead>\n",
       "\t<tr><th scope=col>Run</th><th scope=col>conc</th><th scope=col>density</th></tr>\n",
       "\t<tr><th scope=col>&lt;ord&gt;</th><th scope=col>&lt;dbl&gt;</th><th scope=col>&lt;dbl&gt;</th></tr>\n",
       "</thead>\n",
       "<tbody>\n",
       "\t<tr><td>1</td><td>0.04882812</td><td>0.017</td></tr>\n",
       "\t<tr><td>1</td><td>0.04882812</td><td>0.018</td></tr>\n",
       "\t<tr><td>1</td><td>0.19531250</td><td>0.121</td></tr>\n",
       "\t<tr><td>1</td><td>0.19531250</td><td>0.124</td></tr>\n",
       "\t<tr><td>1</td><td>0.39062500</td><td>0.206</td></tr>\n",
       "\t<tr><td>1</td><td>0.39062500</td><td>0.215</td></tr>\n",
       "</tbody>\n",
       "</table>\n"
      ],
      "text/latex": [
       "A data.frame: 6 × 3\n",
       "\\begin{tabular}{r|lll}\n",
       " Run & conc & density\\\\\n",
       " <ord> & <dbl> & <dbl>\\\\\n",
       "\\hline\n",
       "\t 1 & 0.04882812 & 0.017\\\\\n",
       "\t 1 & 0.04882812 & 0.018\\\\\n",
       "\t 1 & 0.19531250 & 0.121\\\\\n",
       "\t 1 & 0.19531250 & 0.124\\\\\n",
       "\t 1 & 0.39062500 & 0.206\\\\\n",
       "\t 1 & 0.39062500 & 0.215\\\\\n",
       "\\end{tabular}\n"
      ],
      "text/markdown": [
       "\n",
       "A data.frame: 6 × 3\n",
       "\n",
       "| Run &lt;ord&gt; | conc &lt;dbl&gt; | density &lt;dbl&gt; |\n",
       "|---|---|---|\n",
       "| 1 | 0.04882812 | 0.017 |\n",
       "| 1 | 0.04882812 | 0.018 |\n",
       "| 1 | 0.19531250 | 0.121 |\n",
       "| 1 | 0.19531250 | 0.124 |\n",
       "| 1 | 0.39062500 | 0.206 |\n",
       "| 1 | 0.39062500 | 0.215 |\n",
       "\n"
      ],
      "text/plain": [
       "  Run conc       density\n",
       "1 1   0.04882812 0.017  \n",
       "2 1   0.04882812 0.018  \n",
       "3 1   0.19531250 0.121  \n",
       "4 1   0.19531250 0.124  \n",
       "5 1   0.39062500 0.206  \n",
       "6 1   0.39062500 0.215  "
      ]
     },
     "metadata": {},
     "output_type": "display_data"
    }
   ],
   "source": [
    "head(DNase)"
   ]
  },
  {
   "cell_type": "markdown",
   "metadata": {},
   "source": [
    "You can use the `n` argument to look at a different number of lines"
   ]
  },
  {
   "cell_type": "code",
   "execution_count": 99,
   "metadata": {},
   "outputs": [
    {
     "data": {
      "text/html": [
       "<table>\n",
       "<caption>A data.frame: 3 × 3</caption>\n",
       "<thead>\n",
       "\t<tr><th scope=col>Run</th><th scope=col>conc</th><th scope=col>density</th></tr>\n",
       "\t<tr><th scope=col>&lt;ord&gt;</th><th scope=col>&lt;dbl&gt;</th><th scope=col>&lt;dbl&gt;</th></tr>\n",
       "</thead>\n",
       "<tbody>\n",
       "\t<tr><td>1</td><td>0.04882812</td><td>0.017</td></tr>\n",
       "\t<tr><td>1</td><td>0.04882812</td><td>0.018</td></tr>\n",
       "\t<tr><td>1</td><td>0.19531250</td><td>0.121</td></tr>\n",
       "</tbody>\n",
       "</table>\n"
      ],
      "text/latex": [
       "A data.frame: 3 × 3\n",
       "\\begin{tabular}{r|lll}\n",
       " Run & conc & density\\\\\n",
       " <ord> & <dbl> & <dbl>\\\\\n",
       "\\hline\n",
       "\t 1 & 0.04882812 & 0.017\\\\\n",
       "\t 1 & 0.04882812 & 0.018\\\\\n",
       "\t 1 & 0.19531250 & 0.121\\\\\n",
       "\\end{tabular}\n"
      ],
      "text/markdown": [
       "\n",
       "A data.frame: 3 × 3\n",
       "\n",
       "| Run &lt;ord&gt; | conc &lt;dbl&gt; | density &lt;dbl&gt; |\n",
       "|---|---|---|\n",
       "| 1 | 0.04882812 | 0.017 |\n",
       "| 1 | 0.04882812 | 0.018 |\n",
       "| 1 | 0.19531250 | 0.121 |\n",
       "\n"
      ],
      "text/plain": [
       "  Run conc       density\n",
       "1 1   0.04882812 0.017  \n",
       "2 1   0.04882812 0.018  \n",
       "3 1   0.19531250 0.121  "
      ]
     },
     "metadata": {},
     "output_type": "display_data"
    }
   ],
   "source": [
    "head(DNase, n = 3)"
   ]
  },
  {
   "cell_type": "markdown",
   "metadata": {},
   "source": [
    "We can use the `tail()` function to look at the last few lines of the data frame:"
   ]
  },
  {
   "cell_type": "code",
   "execution_count": 100,
   "metadata": {},
   "outputs": [
    {
     "data": {
      "text/html": [
       "<table>\n",
       "<caption>A data.frame: 5 × 3</caption>\n",
       "<thead>\n",
       "\t<tr><th></th><th scope=col>Run</th><th scope=col>conc</th><th scope=col>density</th></tr>\n",
       "\t<tr><th></th><th scope=col>&lt;ord&gt;</th><th scope=col>&lt;dbl&gt;</th><th scope=col>&lt;dbl&gt;</th></tr>\n",
       "</thead>\n",
       "<tbody>\n",
       "\t<tr><th scope=row>172</th><td>11</td><td> 3.125</td><td>0.980</td></tr>\n",
       "\t<tr><th scope=row>173</th><td>11</td><td> 6.250</td><td>1.421</td></tr>\n",
       "\t<tr><th scope=row>174</th><td>11</td><td> 6.250</td><td>1.385</td></tr>\n",
       "\t<tr><th scope=row>175</th><td>11</td><td>12.500</td><td>1.715</td></tr>\n",
       "\t<tr><th scope=row>176</th><td>11</td><td>12.500</td><td>1.721</td></tr>\n",
       "</tbody>\n",
       "</table>\n"
      ],
      "text/latex": [
       "A data.frame: 5 × 3\n",
       "\\begin{tabular}{r|lll}\n",
       "  & Run & conc & density\\\\\n",
       "  & <ord> & <dbl> & <dbl>\\\\\n",
       "\\hline\n",
       "\t172 & 11 &  3.125 & 0.980\\\\\n",
       "\t173 & 11 &  6.250 & 1.421\\\\\n",
       "\t174 & 11 &  6.250 & 1.385\\\\\n",
       "\t175 & 11 & 12.500 & 1.715\\\\\n",
       "\t176 & 11 & 12.500 & 1.721\\\\\n",
       "\\end{tabular}\n"
      ],
      "text/markdown": [
       "\n",
       "A data.frame: 5 × 3\n",
       "\n",
       "| <!--/--> | Run &lt;ord&gt; | conc &lt;dbl&gt; | density &lt;dbl&gt; |\n",
       "|---|---|---|---|\n",
       "| 172 | 11 |  3.125 | 0.980 |\n",
       "| 173 | 11 |  6.250 | 1.421 |\n",
       "| 174 | 11 |  6.250 | 1.385 |\n",
       "| 175 | 11 | 12.500 | 1.715 |\n",
       "| 176 | 11 | 12.500 | 1.721 |\n",
       "\n"
      ],
      "text/plain": [
       "    Run conc   density\n",
       "172 11   3.125 0.980  \n",
       "173 11   6.250 1.421  \n",
       "174 11   6.250 1.385  \n",
       "175 11  12.500 1.715  \n",
       "176 11  12.500 1.721  "
      ]
     },
     "metadata": {},
     "output_type": "display_data"
    }
   ],
   "source": [
    "tail(DNase, n = 5)"
   ]
  },
  {
   "cell_type": "markdown",
   "metadata": {},
   "source": [
    "The summary function, which can be applied to either a vector or a data frame (in the latter case, R applies it separately to each column in the data frame) yields a variety of summary statistics about each variable. "
   ]
  },
  {
   "cell_type": "code",
   "execution_count": 101,
   "metadata": {},
   "outputs": [
    {
     "data": {
      "text/plain": [
       "      Run          conc             density      \n",
       " 10     :16   Min.   : 0.04883   Min.   :0.0110  \n",
       " 11     :16   1st Qu.: 0.34180   1st Qu.:0.1978  \n",
       " 9      :16   Median : 1.17188   Median :0.5265  \n",
       " 1      :16   Mean   : 3.10669   Mean   :0.7192  \n",
       " 4      :16   3rd Qu.: 3.90625   3rd Qu.:1.1705  \n",
       " 8      :16   Max.   :12.50000   Max.   :2.0030  \n",
       " (Other):80                                      "
      ]
     },
     "metadata": {},
     "output_type": "display_data"
    }
   ],
   "source": [
    "summary(DNase)"
   ]
  },
  {
   "cell_type": "markdown",
   "metadata": {},
   "source": [
    "`summary()` is informative for numerical data, but not so helpful for factor data, as in the `Run` column. \n",
    "Let's make a smaller subset of the `DNase` data to work with:"
   ]
  },
  {
   "cell_type": "code",
   "execution_count": 102,
   "metadata": {},
   "outputs": [
    {
     "data": {
      "text/html": [
       "<table>\n",
       "<caption>A data.frame: 20 × 3</caption>\n",
       "<thead>\n",
       "\t<tr><th scope=col>Run</th><th scope=col>conc</th><th scope=col>density</th></tr>\n",
       "\t<tr><th scope=col>&lt;ord&gt;</th><th scope=col>&lt;dbl&gt;</th><th scope=col>&lt;dbl&gt;</th></tr>\n",
       "</thead>\n",
       "<tbody>\n",
       "\t<tr><td>1</td><td> 0.04882812</td><td>0.017</td></tr>\n",
       "\t<tr><td>1</td><td> 0.04882812</td><td>0.018</td></tr>\n",
       "\t<tr><td>1</td><td> 0.19531250</td><td>0.121</td></tr>\n",
       "\t<tr><td>1</td><td> 0.19531250</td><td>0.124</td></tr>\n",
       "\t<tr><td>1</td><td> 0.39062500</td><td>0.206</td></tr>\n",
       "\t<tr><td>1</td><td> 0.39062500</td><td>0.215</td></tr>\n",
       "\t<tr><td>1</td><td> 0.78125000</td><td>0.377</td></tr>\n",
       "\t<tr><td>1</td><td> 0.78125000</td><td>0.374</td></tr>\n",
       "\t<tr><td>1</td><td> 1.56250000</td><td>0.614</td></tr>\n",
       "\t<tr><td>1</td><td> 1.56250000</td><td>0.609</td></tr>\n",
       "\t<tr><td>1</td><td> 3.12500000</td><td>1.019</td></tr>\n",
       "\t<tr><td>1</td><td> 3.12500000</td><td>1.001</td></tr>\n",
       "\t<tr><td>1</td><td> 6.25000000</td><td>1.334</td></tr>\n",
       "\t<tr><td>1</td><td> 6.25000000</td><td>1.364</td></tr>\n",
       "\t<tr><td>1</td><td>12.50000000</td><td>1.730</td></tr>\n",
       "\t<tr><td>1</td><td>12.50000000</td><td>1.710</td></tr>\n",
       "\t<tr><td>2</td><td> 0.04882812</td><td>0.045</td></tr>\n",
       "\t<tr><td>2</td><td> 0.04882812</td><td>0.050</td></tr>\n",
       "\t<tr><td>2</td><td> 0.19531250</td><td>0.137</td></tr>\n",
       "\t<tr><td>2</td><td> 0.19531250</td><td>0.123</td></tr>\n",
       "</tbody>\n",
       "</table>\n"
      ],
      "text/latex": [
       "A data.frame: 20 × 3\n",
       "\\begin{tabular}{r|lll}\n",
       " Run & conc & density\\\\\n",
       " <ord> & <dbl> & <dbl>\\\\\n",
       "\\hline\n",
       "\t 1 &  0.04882812 & 0.017\\\\\n",
       "\t 1 &  0.04882812 & 0.018\\\\\n",
       "\t 1 &  0.19531250 & 0.121\\\\\n",
       "\t 1 &  0.19531250 & 0.124\\\\\n",
       "\t 1 &  0.39062500 & 0.206\\\\\n",
       "\t 1 &  0.39062500 & 0.215\\\\\n",
       "\t 1 &  0.78125000 & 0.377\\\\\n",
       "\t 1 &  0.78125000 & 0.374\\\\\n",
       "\t 1 &  1.56250000 & 0.614\\\\\n",
       "\t 1 &  1.56250000 & 0.609\\\\\n",
       "\t 1 &  3.12500000 & 1.019\\\\\n",
       "\t 1 &  3.12500000 & 1.001\\\\\n",
       "\t 1 &  6.25000000 & 1.334\\\\\n",
       "\t 1 &  6.25000000 & 1.364\\\\\n",
       "\t 1 & 12.50000000 & 1.730\\\\\n",
       "\t 1 & 12.50000000 & 1.710\\\\\n",
       "\t 2 &  0.04882812 & 0.045\\\\\n",
       "\t 2 &  0.04882812 & 0.050\\\\\n",
       "\t 2 &  0.19531250 & 0.137\\\\\n",
       "\t 2 &  0.19531250 & 0.123\\\\\n",
       "\\end{tabular}\n"
      ],
      "text/markdown": [
       "\n",
       "A data.frame: 20 × 3\n",
       "\n",
       "| Run &lt;ord&gt; | conc &lt;dbl&gt; | density &lt;dbl&gt; |\n",
       "|---|---|---|\n",
       "| 1 |  0.04882812 | 0.017 |\n",
       "| 1 |  0.04882812 | 0.018 |\n",
       "| 1 |  0.19531250 | 0.121 |\n",
       "| 1 |  0.19531250 | 0.124 |\n",
       "| 1 |  0.39062500 | 0.206 |\n",
       "| 1 |  0.39062500 | 0.215 |\n",
       "| 1 |  0.78125000 | 0.377 |\n",
       "| 1 |  0.78125000 | 0.374 |\n",
       "| 1 |  1.56250000 | 0.614 |\n",
       "| 1 |  1.56250000 | 0.609 |\n",
       "| 1 |  3.12500000 | 1.019 |\n",
       "| 1 |  3.12500000 | 1.001 |\n",
       "| 1 |  6.25000000 | 1.334 |\n",
       "| 1 |  6.25000000 | 1.364 |\n",
       "| 1 | 12.50000000 | 1.730 |\n",
       "| 1 | 12.50000000 | 1.710 |\n",
       "| 2 |  0.04882812 | 0.045 |\n",
       "| 2 |  0.04882812 | 0.050 |\n",
       "| 2 |  0.19531250 | 0.137 |\n",
       "| 2 |  0.19531250 | 0.123 |\n",
       "\n"
      ],
      "text/plain": [
       "   Run conc        density\n",
       "1  1    0.04882812 0.017  \n",
       "2  1    0.04882812 0.018  \n",
       "3  1    0.19531250 0.121  \n",
       "4  1    0.19531250 0.124  \n",
       "5  1    0.39062500 0.206  \n",
       "6  1    0.39062500 0.215  \n",
       "7  1    0.78125000 0.377  \n",
       "8  1    0.78125000 0.374  \n",
       "9  1    1.56250000 0.614  \n",
       "10 1    1.56250000 0.609  \n",
       "11 1    3.12500000 1.019  \n",
       "12 1    3.12500000 1.001  \n",
       "13 1    6.25000000 1.334  \n",
       "14 1    6.25000000 1.364  \n",
       "15 1   12.50000000 1.730  \n",
       "16 1   12.50000000 1.710  \n",
       "17 2    0.04882812 0.045  \n",
       "18 2    0.04882812 0.050  \n",
       "19 2    0.19531250 0.137  \n",
       "20 2    0.19531250 0.123  "
      ]
     },
     "metadata": {},
     "output_type": "display_data"
    }
   ],
   "source": [
    "DNase_subset <- DNase[1:20, ]\n",
    "DNase_subset"
   ]
  },
  {
   "cell_type": "markdown",
   "metadata": {},
   "source": []
  },
  {
   "cell_type": "markdown",
   "metadata": {},
   "source": [
    "We can also sort our data. Let's look at the `conc` column:"
   ]
  },
  {
   "cell_type": "code",
   "execution_count": 103,
   "metadata": {},
   "outputs": [
    {
     "name": "stdout",
     "output_type": "stream",
     "text": [
      " [1]  0.04882812  0.04882812  0.19531250  0.19531250  0.39062500  0.39062500\n",
      " [7]  0.78125000  0.78125000  1.56250000  1.56250000  3.12500000  3.12500000\n",
      "[13]  6.25000000  6.25000000 12.50000000 12.50000000  0.04882812  0.04882812\n",
      "[19]  0.19531250  0.19531250\n"
     ]
    }
   ],
   "source": [
    "print(DNase_subset$conc)"
   ]
  },
  {
   "cell_type": "markdown",
   "metadata": {},
   "source": [
    "Use the `order()` function to figure out the ascending rankings of the values"
   ]
  },
  {
   "cell_type": "code",
   "execution_count": 104,
   "metadata": {},
   "outputs": [
    {
     "data": {
      "text/html": [
       "<ol class=list-inline>\n",
       "\t<li>1</li>\n",
       "\t<li>2</li>\n",
       "\t<li>17</li>\n",
       "\t<li>18</li>\n",
       "\t<li>3</li>\n",
       "\t<li>4</li>\n",
       "\t<li>19</li>\n",
       "\t<li>20</li>\n",
       "\t<li>5</li>\n",
       "\t<li>6</li>\n",
       "\t<li>7</li>\n",
       "\t<li>8</li>\n",
       "\t<li>9</li>\n",
       "\t<li>10</li>\n",
       "\t<li>11</li>\n",
       "\t<li>12</li>\n",
       "\t<li>13</li>\n",
       "\t<li>14</li>\n",
       "\t<li>15</li>\n",
       "\t<li>16</li>\n",
       "</ol>\n"
      ],
      "text/latex": [
       "\\begin{enumerate*}\n",
       "\\item 1\n",
       "\\item 2\n",
       "\\item 17\n",
       "\\item 18\n",
       "\\item 3\n",
       "\\item 4\n",
       "\\item 19\n",
       "\\item 20\n",
       "\\item 5\n",
       "\\item 6\n",
       "\\item 7\n",
       "\\item 8\n",
       "\\item 9\n",
       "\\item 10\n",
       "\\item 11\n",
       "\\item 12\n",
       "\\item 13\n",
       "\\item 14\n",
       "\\item 15\n",
       "\\item 16\n",
       "\\end{enumerate*}\n"
      ],
      "text/markdown": [
       "1. 1\n",
       "2. 2\n",
       "3. 17\n",
       "4. 18\n",
       "5. 3\n",
       "6. 4\n",
       "7. 19\n",
       "8. 20\n",
       "9. 5\n",
       "10. 6\n",
       "11. 7\n",
       "12. 8\n",
       "13. 9\n",
       "14. 10\n",
       "15. 11\n",
       "16. 12\n",
       "17. 13\n",
       "18. 14\n",
       "19. 15\n",
       "20. 16\n",
       "\n",
       "\n"
      ],
      "text/plain": [
       " [1]  1  2 17 18  3  4 19 20  5  6  7  8  9 10 11 12 13 14 15 16"
      ]
     },
     "metadata": {},
     "output_type": "display_data"
    }
   ],
   "source": [
    "order(DNase_subset$conc)"
   ]
  },
  {
   "cell_type": "markdown",
   "metadata": {},
   "source": [
    "We can assign this ordering to a vector:"
   ]
  },
  {
   "cell_type": "code",
   "execution_count": 105,
   "metadata": {},
   "outputs": [],
   "source": [
    "reorder_vector <- order(DNase_subset$conc)"
   ]
  },
  {
   "cell_type": "markdown",
   "metadata": {},
   "source": [
    "And use it to reorder our data frame:"
   ]
  },
  {
   "cell_type": "code",
   "execution_count": 106,
   "metadata": {},
   "outputs": [
    {
     "data": {
      "text/html": [
       "<table>\n",
       "<caption>A data.frame: 20 × 3</caption>\n",
       "<thead>\n",
       "\t<tr><th></th><th scope=col>Run</th><th scope=col>conc</th><th scope=col>density</th></tr>\n",
       "\t<tr><th></th><th scope=col>&lt;ord&gt;</th><th scope=col>&lt;dbl&gt;</th><th scope=col>&lt;dbl&gt;</th></tr>\n",
       "</thead>\n",
       "<tbody>\n",
       "\t<tr><th scope=row>1</th><td>1</td><td> 0.04882812</td><td>0.017</td></tr>\n",
       "\t<tr><th scope=row>2</th><td>1</td><td> 0.04882812</td><td>0.018</td></tr>\n",
       "\t<tr><th scope=row>17</th><td>2</td><td> 0.04882812</td><td>0.045</td></tr>\n",
       "\t<tr><th scope=row>18</th><td>2</td><td> 0.04882812</td><td>0.050</td></tr>\n",
       "\t<tr><th scope=row>3</th><td>1</td><td> 0.19531250</td><td>0.121</td></tr>\n",
       "\t<tr><th scope=row>4</th><td>1</td><td> 0.19531250</td><td>0.124</td></tr>\n",
       "\t<tr><th scope=row>19</th><td>2</td><td> 0.19531250</td><td>0.137</td></tr>\n",
       "\t<tr><th scope=row>20</th><td>2</td><td> 0.19531250</td><td>0.123</td></tr>\n",
       "\t<tr><th scope=row>5</th><td>1</td><td> 0.39062500</td><td>0.206</td></tr>\n",
       "\t<tr><th scope=row>6</th><td>1</td><td> 0.39062500</td><td>0.215</td></tr>\n",
       "\t<tr><th scope=row>7</th><td>1</td><td> 0.78125000</td><td>0.377</td></tr>\n",
       "\t<tr><th scope=row>8</th><td>1</td><td> 0.78125000</td><td>0.374</td></tr>\n",
       "\t<tr><th scope=row>9</th><td>1</td><td> 1.56250000</td><td>0.614</td></tr>\n",
       "\t<tr><th scope=row>10</th><td>1</td><td> 1.56250000</td><td>0.609</td></tr>\n",
       "\t<tr><th scope=row>11</th><td>1</td><td> 3.12500000</td><td>1.019</td></tr>\n",
       "\t<tr><th scope=row>12</th><td>1</td><td> 3.12500000</td><td>1.001</td></tr>\n",
       "\t<tr><th scope=row>13</th><td>1</td><td> 6.25000000</td><td>1.334</td></tr>\n",
       "\t<tr><th scope=row>14</th><td>1</td><td> 6.25000000</td><td>1.364</td></tr>\n",
       "\t<tr><th scope=row>15</th><td>1</td><td>12.50000000</td><td>1.730</td></tr>\n",
       "\t<tr><th scope=row>16</th><td>1</td><td>12.50000000</td><td>1.710</td></tr>\n",
       "</tbody>\n",
       "</table>\n"
      ],
      "text/latex": [
       "A data.frame: 20 × 3\n",
       "\\begin{tabular}{r|lll}\n",
       "  & Run & conc & density\\\\\n",
       "  & <ord> & <dbl> & <dbl>\\\\\n",
       "\\hline\n",
       "\t1 & 1 &  0.04882812 & 0.017\\\\\n",
       "\t2 & 1 &  0.04882812 & 0.018\\\\\n",
       "\t17 & 2 &  0.04882812 & 0.045\\\\\n",
       "\t18 & 2 &  0.04882812 & 0.050\\\\\n",
       "\t3 & 1 &  0.19531250 & 0.121\\\\\n",
       "\t4 & 1 &  0.19531250 & 0.124\\\\\n",
       "\t19 & 2 &  0.19531250 & 0.137\\\\\n",
       "\t20 & 2 &  0.19531250 & 0.123\\\\\n",
       "\t5 & 1 &  0.39062500 & 0.206\\\\\n",
       "\t6 & 1 &  0.39062500 & 0.215\\\\\n",
       "\t7 & 1 &  0.78125000 & 0.377\\\\\n",
       "\t8 & 1 &  0.78125000 & 0.374\\\\\n",
       "\t9 & 1 &  1.56250000 & 0.614\\\\\n",
       "\t10 & 1 &  1.56250000 & 0.609\\\\\n",
       "\t11 & 1 &  3.12500000 & 1.019\\\\\n",
       "\t12 & 1 &  3.12500000 & 1.001\\\\\n",
       "\t13 & 1 &  6.25000000 & 1.334\\\\\n",
       "\t14 & 1 &  6.25000000 & 1.364\\\\\n",
       "\t15 & 1 & 12.50000000 & 1.730\\\\\n",
       "\t16 & 1 & 12.50000000 & 1.710\\\\\n",
       "\\end{tabular}\n"
      ],
      "text/markdown": [
       "\n",
       "A data.frame: 20 × 3\n",
       "\n",
       "| <!--/--> | Run &lt;ord&gt; | conc &lt;dbl&gt; | density &lt;dbl&gt; |\n",
       "|---|---|---|---|\n",
       "| 1 | 1 |  0.04882812 | 0.017 |\n",
       "| 2 | 1 |  0.04882812 | 0.018 |\n",
       "| 17 | 2 |  0.04882812 | 0.045 |\n",
       "| 18 | 2 |  0.04882812 | 0.050 |\n",
       "| 3 | 1 |  0.19531250 | 0.121 |\n",
       "| 4 | 1 |  0.19531250 | 0.124 |\n",
       "| 19 | 2 |  0.19531250 | 0.137 |\n",
       "| 20 | 2 |  0.19531250 | 0.123 |\n",
       "| 5 | 1 |  0.39062500 | 0.206 |\n",
       "| 6 | 1 |  0.39062500 | 0.215 |\n",
       "| 7 | 1 |  0.78125000 | 0.377 |\n",
       "| 8 | 1 |  0.78125000 | 0.374 |\n",
       "| 9 | 1 |  1.56250000 | 0.614 |\n",
       "| 10 | 1 |  1.56250000 | 0.609 |\n",
       "| 11 | 1 |  3.12500000 | 1.019 |\n",
       "| 12 | 1 |  3.12500000 | 1.001 |\n",
       "| 13 | 1 |  6.25000000 | 1.334 |\n",
       "| 14 | 1 |  6.25000000 | 1.364 |\n",
       "| 15 | 1 | 12.50000000 | 1.730 |\n",
       "| 16 | 1 | 12.50000000 | 1.710 |\n",
       "\n"
      ],
      "text/plain": [
       "   Run conc        density\n",
       "1  1    0.04882812 0.017  \n",
       "2  1    0.04882812 0.018  \n",
       "17 2    0.04882812 0.045  \n",
       "18 2    0.04882812 0.050  \n",
       "3  1    0.19531250 0.121  \n",
       "4  1    0.19531250 0.124  \n",
       "19 2    0.19531250 0.137  \n",
       "20 2    0.19531250 0.123  \n",
       "5  1    0.39062500 0.206  \n",
       "6  1    0.39062500 0.215  \n",
       "7  1    0.78125000 0.377  \n",
       "8  1    0.78125000 0.374  \n",
       "9  1    1.56250000 0.614  \n",
       "10 1    1.56250000 0.609  \n",
       "11 1    3.12500000 1.019  \n",
       "12 1    3.12500000 1.001  \n",
       "13 1    6.25000000 1.334  \n",
       "14 1    6.25000000 1.364  \n",
       "15 1   12.50000000 1.730  \n",
       "16 1   12.50000000 1.710  "
      ]
     },
     "metadata": {},
     "output_type": "display_data"
    }
   ],
   "source": [
    "DNase_subset[reorder_vector, ]"
   ]
  },
  {
   "cell_type": "markdown",
   "metadata": {},
   "source": [
    "Data frames can be classified into two broad categories: wide format and long format. All data frames shown so far have been presented in wide format. A wide format data frame has each row describe a sample and each column describe a feature. Here is a short example of a data frame in wide format, tabulating counts for three genes in three patients:"
   ]
  },
  {
   "cell_type": "code",
   "execution_count": 107,
   "metadata": {},
   "outputs": [
    {
     "data": {
      "text/html": [
       "<table>\n",
       "<caption>A data.frame: 3 × 4</caption>\n",
       "<thead>\n",
       "\t<tr><th scope=col>id</th><th scope=col>gene.1</th><th scope=col>gene.2</th><th scope=col>gene.3</th></tr>\n",
       "\t<tr><th scope=col>&lt;fct&gt;</th><th scope=col>&lt;dbl&gt;</th><th scope=col>&lt;dbl&gt;</th><th scope=col>&lt;dbl&gt;</th></tr>\n",
       "</thead>\n",
       "<tbody>\n",
       "\t<tr><td>A</td><td>1</td><td>5</td><td>0</td></tr>\n",
       "\t<tr><td>B</td><td>1</td><td>6</td><td>1</td></tr>\n",
       "\t<tr><td>C</td><td>2</td><td>7</td><td>0</td></tr>\n",
       "</tbody>\n",
       "</table>\n"
      ],
      "text/latex": [
       "A data.frame: 3 × 4\n",
       "\\begin{tabular}{r|llll}\n",
       " id & gene.1 & gene.2 & gene.3\\\\\n",
       " <fct> & <dbl> & <dbl> & <dbl>\\\\\n",
       "\\hline\n",
       "\t A & 1 & 5 & 0\\\\\n",
       "\t B & 1 & 6 & 1\\\\\n",
       "\t C & 2 & 7 & 0\\\\\n",
       "\\end{tabular}\n"
      ],
      "text/markdown": [
       "\n",
       "A data.frame: 3 × 4\n",
       "\n",
       "| id &lt;fct&gt; | gene.1 &lt;dbl&gt; | gene.2 &lt;dbl&gt; | gene.3 &lt;dbl&gt; |\n",
       "|---|---|---|---|\n",
       "| A | 1 | 5 | 0 |\n",
       "| B | 1 | 6 | 1 |\n",
       "| C | 2 | 7 | 0 |\n",
       "\n"
      ],
      "text/plain": [
       "  id gene.1 gene.2 gene.3\n",
       "1 A  1      5      0     \n",
       "2 B  1      6      1     \n",
       "3 C  2      7      0     "
      ]
     },
     "metadata": {},
     "output_type": "display_data"
    }
   ],
   "source": [
    "wide_df <- data.frame(c(\"A\", \"B\", \"C\"), c(1, 1, 2), c(5, 6, 7), c(0, 1, 0))\n",
    "colnames(wide_df) <- c(\"id\", \"gene.1\", \"gene.2\", \"gene.3\")\n",
    "wide_df"
   ]
  },
  {
   "cell_type": "markdown",
   "metadata": {},
   "source": [
    "Long format stacks features on top of one another; each row is the combination of a sample and a feature.  One column exists to denote the feature in question, and another column exists to denote that feature' value:"
   ]
  },
  {
   "cell_type": "code",
   "execution_count": 108,
   "metadata": {},
   "outputs": [
    {
     "data": {
      "text/html": [
       "<table>\n",
       "<caption>A data.frame: 9 × 3</caption>\n",
       "<thead>\n",
       "\t<tr><th scope=col>id</th><th scope=col>gene</th><th scope=col>count</th></tr>\n",
       "\t<tr><th scope=col>&lt;fct&gt;</th><th scope=col>&lt;fct&gt;</th><th scope=col>&lt;dbl&gt;</th></tr>\n",
       "</thead>\n",
       "<tbody>\n",
       "\t<tr><td>A</td><td>gene.1</td><td>1</td></tr>\n",
       "\t<tr><td>A</td><td>gene.2</td><td>5</td></tr>\n",
       "\t<tr><td>A</td><td>gene.3</td><td>0</td></tr>\n",
       "\t<tr><td>B</td><td>gene.1</td><td>1</td></tr>\n",
       "\t<tr><td>B</td><td>gene.2</td><td>6</td></tr>\n",
       "\t<tr><td>B</td><td>gene.3</td><td>1</td></tr>\n",
       "\t<tr><td>C</td><td>gene.1</td><td>2</td></tr>\n",
       "\t<tr><td>C</td><td>gene.2</td><td>7</td></tr>\n",
       "\t<tr><td>C</td><td>gene.3</td><td>0</td></tr>\n",
       "</tbody>\n",
       "</table>\n"
      ],
      "text/latex": [
       "A data.frame: 9 × 3\n",
       "\\begin{tabular}{r|lll}\n",
       " id & gene & count\\\\\n",
       " <fct> & <fct> & <dbl>\\\\\n",
       "\\hline\n",
       "\t A & gene.1 & 1\\\\\n",
       "\t A & gene.2 & 5\\\\\n",
       "\t A & gene.3 & 0\\\\\n",
       "\t B & gene.1 & 1\\\\\n",
       "\t B & gene.2 & 6\\\\\n",
       "\t B & gene.3 & 1\\\\\n",
       "\t C & gene.1 & 2\\\\\n",
       "\t C & gene.2 & 7\\\\\n",
       "\t C & gene.3 & 0\\\\\n",
       "\\end{tabular}\n"
      ],
      "text/markdown": [
       "\n",
       "A data.frame: 9 × 3\n",
       "\n",
       "| id &lt;fct&gt; | gene &lt;fct&gt; | count &lt;dbl&gt; |\n",
       "|---|---|---|\n",
       "| A | gene.1 | 1 |\n",
       "| A | gene.2 | 5 |\n",
       "| A | gene.3 | 0 |\n",
       "| B | gene.1 | 1 |\n",
       "| B | gene.2 | 6 |\n",
       "| B | gene.3 | 1 |\n",
       "| C | gene.1 | 2 |\n",
       "| C | gene.2 | 7 |\n",
       "| C | gene.3 | 0 |\n",
       "\n"
      ],
      "text/plain": [
       "  id gene   count\n",
       "1 A  gene.1 1    \n",
       "2 A  gene.2 5    \n",
       "3 A  gene.3 0    \n",
       "4 B  gene.1 1    \n",
       "5 B  gene.2 6    \n",
       "6 B  gene.3 1    \n",
       "7 C  gene.1 2    \n",
       "8 C  gene.2 7    \n",
       "9 C  gene.3 0    "
      ]
     },
     "metadata": {},
     "output_type": "display_data"
    }
   ],
   "source": [
    "long_df <- data.frame(c(\"A\", \"A\", \"A\", \"B\", \"B\", \"B\", \"C\", \"C\", \"C\"), c(\"gene.1\", \"gene.2\", \"gene.3\", \"gene.1\", \"gene.2\", \"gene.3\", \"gene.1\", \"gene.2\", \"gene.3\"), c(1, 5, 0, 1, 6, 1, 2, 7, 0))\n",
    "colnames(long_df) <- c(\"id\", \"gene\", \"count\")\n",
    "long_df"
   ]
  },
  {
   "cell_type": "markdown",
   "metadata": {},
   "source": [
    "These formats both contain the exact same data but represent it in different ways. Various functions exist to convert between wide and long format but these are beyond the scope of today's discussion. You can look up the `reshape2` or `tidyr` packages if you're interested in learning more about converting between long and wide formats -- alternatively, check out our tidyverse workshop."
   ]
  },
  {
   "cell_type": "markdown",
   "metadata": {},
   "source": [
    "# User defined functions\n",
    "- In addition to the already available functions in R, you can also create your own functions. \n",
    "- Generally, if you find yourself re-writing the same pieces of code over and over again, it might be time to write a function. \n",
    "\n",
    "Functions take the following basic format:"
   ]
  },
  {
   "cell_type": "markdown",
   "metadata": {},
   "source": [
    "```\n",
    "myfunction <- function(argument_name){\n",
    "  stuff <- this is the body of the function(\n",
    "    it contains statements that use argument_names\n",
    "    to do things and make stuff)\n",
    "  return(stuff)\n",
    "}\n",
    "```"
   ]
  },
  {
   "cell_type": "markdown",
   "metadata": {},
   "source": [
    "More formally, R functions are broken up into 3 pieces:\n",
    "1. formals() - the list of arguments\n",
    "2. body() - code inside the function\n",
    "3. environment() - how the function finds the values associated with function names"
   ]
  },
  {
   "cell_type": "markdown",
   "metadata": {},
   "source": [
    "Here's an example of a function called `roll()` that rolls any number of 6-sided dice:"
   ]
  },
  {
   "cell_type": "code",
   "execution_count": 109,
   "metadata": {},
   "outputs": [],
   "source": [
    "roll <- function(number_of_dice){\n",
    "    rolled_dice <- sample(\n",
    "        x = 6, \n",
    "        size = number_of_dice, \n",
    "        replace = TRUE)\n",
    "    return(rolled_dice)\n",
    "}"
   ]
  },
  {
   "cell_type": "markdown",
   "metadata": {},
   "source": [
    "- The built-in R function `sample()` is nested inside our `roll()` function.\n",
    "- `roll()` uses the argument `number_of_dice` as the `size`, `x` is the number of sides on the die, which we have hard-coded as `6`, and `replace = TRUE` means that we are sampling the space of all potential die roll outcomes with replacement.\n",
    "- Lastly, we tell the function what it should return (`rolled_dice`).\n",
    "\n",
    "To call that function and print the output:"
   ]
  },
  {
   "cell_type": "code",
   "execution_count": 110,
   "metadata": {},
   "outputs": [
    {
     "name": "stdout",
     "output_type": "stream",
     "text": [
      " [1] 4 4 4 3 3 4 6 2 3 2\n"
     ]
    }
   ],
   "source": [
    "print(roll(number_of_dice = 10))"
   ]
  },
  {
   "cell_type": "markdown",
   "metadata": {},
   "source": [
    "Lets look at the `formals()`"
   ]
  },
  {
   "cell_type": "code",
   "execution_count": 111,
   "metadata": {},
   "outputs": [
    {
     "data": {
      "text/plain": [
       "$number_of_dice\n",
       "\n"
      ]
     },
     "metadata": {},
     "output_type": "display_data"
    }
   ],
   "source": [
    "formals(roll)"
   ]
  },
  {
   "cell_type": "markdown",
   "metadata": {},
   "source": [
    "What about `body()`?"
   ]
  },
  {
   "cell_type": "code",
   "execution_count": 112,
   "metadata": {},
   "outputs": [
    {
     "data": {
      "text/plain": [
       "{\n",
       "    rolled_dice <- sample(x = 6, size = number_of_dice, replace = TRUE)\n",
       "    return(rolled_dice)\n",
       "}"
      ]
     },
     "metadata": {},
     "output_type": "display_data"
    }
   ],
   "source": [
    "body(roll)"
   ]
  },
  {
   "cell_type": "markdown",
   "metadata": {},
   "source": [
    "What about `environment()`?"
   ]
  },
  {
   "cell_type": "code",
   "execution_count": 113,
   "metadata": {},
   "outputs": [
    {
     "data": {
      "text/plain": [
       "<environment: R_GlobalEnv>"
      ]
     },
     "metadata": {},
     "output_type": "display_data"
    }
   ],
   "source": [
    "environment(roll)"
   ]
  },
  {
   "cell_type": "markdown",
   "metadata": {},
   "source": [
    "So, the function itself is called `roll`, it takes the argument or formals `number_of_dice` and the body of the function uses the built-in `sample` function in R to simulate dice rolls (use ?sample to learn more about the `sample()` function). "
   ]
  },
  {
   "cell_type": "markdown",
   "metadata": {},
   "source": [
    "## Anonymous functions"
   ]
  },
  {
   "cell_type": "markdown",
   "metadata": {},
   "source": [
    "- You can also have something called an **anonymous function**, where you write the function but don't assign it to an object.\n",
    "- The general format is:\n",
    "```\n",
    "(function(\n",
    "     argument_name) \n",
    "     statements that use argument_name to create an object\n",
    "  )(\n",
    "    argument_name = argument)\n",
    "```"
   ]
  },
  {
   "cell_type": "code",
   "execution_count": 114,
   "metadata": {},
   "outputs": [
    {
     "data": {
      "text/html": [
       "<ol class=list-inline>\n",
       "\t<li>2</li>\n",
       "\t<li>6</li>\n",
       "\t<li>1</li>\n",
       "\t<li>3</li>\n",
       "\t<li>5</li>\n",
       "</ol>\n"
      ],
      "text/latex": [
       "\\begin{enumerate*}\n",
       "\\item 2\n",
       "\\item 6\n",
       "\\item 1\n",
       "\\item 3\n",
       "\\item 5\n",
       "\\end{enumerate*}\n"
      ],
      "text/markdown": [
       "1. 2\n",
       "2. 6\n",
       "3. 1\n",
       "4. 3\n",
       "5. 5\n",
       "\n",
       "\n"
      ],
      "text/plain": [
       "[1] 2 6 1 3 5"
      ]
     },
     "metadata": {},
     "output_type": "display_data"
    }
   ],
   "source": [
    "(function(\n",
    "    anonymous_dice) \n",
    "    sample(\n",
    "        x = 6, \n",
    "        size = anonymous_dice, \n",
    "        replace = TRUE)\n",
    " )(\n",
    "    anonymous_dice = 5)"
   ]
  },
  {
   "cell_type": "markdown",
   "metadata": {},
   "source": [
    "## More on user defined functions\n",
    "- We can also have functions that take more than one argument. \n",
    "- Lets say we want to roll different numbers of dice (`number_of_dice`) and we want to change the size of the dice we roll (`number_of_sides`)."
   ]
  },
  {
   "cell_type": "code",
   "execution_count": 115,
   "metadata": {},
   "outputs": [],
   "source": [
    "roll <- function(\n",
    "    number_of_dice, \n",
    "    number_of_sides){\n",
    "    rolled_dice <- sample(\n",
    "        x = number_of_sides, \n",
    "        size = number_of_dice, \n",
    "        replace = TRUE)\n",
    "    return(rolled_dice)\n",
    "}"
   ]
  },
  {
   "cell_type": "markdown",
   "metadata": {},
   "source": [
    "- The new `roll()` uses the `sample()` function again, but this time it uses the `number_of_dice` and `number_of_sides`"
   ]
  },
  {
   "cell_type": "code",
   "execution_count": 116,
   "metadata": {},
   "outputs": [
    {
     "name": "stdout",
     "output_type": "stream",
     "text": [
      "[1] 15  6  1 12  9\n"
     ]
    }
   ],
   "source": [
    "print(roll(number_of_dice = 5, number_of_sides = 20))"
   ]
  },
  {
   "cell_type": "markdown",
   "metadata": {},
   "source": [
    "- Lets say we want to roll different numbers of dice (`number_of_dice`) and we want to change the size of the dice we roll (`number_of_sides`) as well as tweak the number of times we roll the dice (`number_of_rolls`).\n",
    "- We can use `replicate()` and `sample()`"
   ]
  },
  {
   "cell_type": "code",
   "execution_count": 117,
   "metadata": {},
   "outputs": [],
   "source": [
    "roll <- function(\n",
    "    number_of_rolls, \n",
    "    number_of_sides, \n",
    "    number_of_dice){\n",
    "    rolled_dice <- replicate(\n",
    "        number_of_rolls, \n",
    "        sample(\n",
    "            x = number_of_sides, \n",
    "            size = number_of_dice, \n",
    "            replace = TRUE))\n",
    "    return(rolled_dice)\n",
    "}"
   ]
  },
  {
   "cell_type": "markdown",
   "metadata": {},
   "source": [
    "- So, in the above function we use `number_of_dice`, `number_of_sides`, and `number_of_rolls` as arguments. \n",
    "- The `sample()` function takes the arguments `number_of_sides` and `number_of_dice`\n",
    "- The `replicate()` function is takine `number_of_rolls` as an argument."
   ]
  },
  {
   "cell_type": "code",
   "execution_count": 118,
   "metadata": {},
   "outputs": [
    {
     "name": "stdout",
     "output_type": "stream",
     "text": [
      "     [,1] [,2] [,3] [,4] [,5] [,6] [,7] [,8] [,9] [,10]\n",
      "[1,]   12   15   13    2    4    4    4   13    9     9\n",
      "[2,]   15   16   16   10   17   18   13   18   19    11\n",
      "[3,]   10    7    9   18   15    3    2    5    2    17\n",
      "[4,]   10    9    2   14    7   13    5    4    5    16\n",
      "[5,]   10    7   16   20    7   17   10   16   10    12\n"
     ]
    }
   ],
   "source": [
    "rolled_dice <- roll(number_of_rolls = 10, number_of_sides = 20, number_of_dice = 5)\n",
    "print(rolled_dice)"
   ]
  },
  {
   "cell_type": "markdown",
   "metadata": {},
   "source": [
    "You can use `colSums()` or `rowSums()` to calculate the sum of the columns and rows:"
   ]
  },
  {
   "cell_type": "code",
   "execution_count": 119,
   "metadata": {},
   "outputs": [
    {
     "name": "stdout",
     "output_type": "stream",
     "text": [
      " [1] 57 54 56 64 50 55 34 56 45 65\n"
     ]
    }
   ],
   "source": [
    "print(colSums(rolled_dice))"
   ]
  },
  {
   "cell_type": "code",
   "execution_count": 120,
   "metadata": {},
   "outputs": [
    {
     "name": "stdout",
     "output_type": "stream",
     "text": [
      "[1]  85 153  88  85 125\n"
     ]
    }
   ],
   "source": [
    "print(rowSums(rolled_dice))"
   ]
  },
  {
   "cell_type": "markdown",
   "metadata": {},
   "source": [
    "We can make `rolled_dice` into an **anonymous function**:"
   ]
  },
  {
   "cell_type": "code",
   "execution_count": 121,
   "metadata": {},
   "outputs": [
    {
     "name": "stdout",
     "output_type": "stream",
     "text": [
      "      [,1] [,2] [,3] [,4] [,5]\n",
      " [1,]   13   11   18   15    9\n",
      " [2,]    3   14    9   13    3\n",
      " [3,]   14    2    7    5   11\n",
      " [4,]   15   19   13    2   20\n",
      " [5,]   16    2   14   15    3\n",
      " [6,]   16   19    5   17   16\n",
      " [7,]   17   14   13   10   17\n",
      " [8,]   10    9   13   10   11\n",
      " [9,]    5   16    3   19    6\n",
      "[10,]    2   10   14   10    8\n"
     ]
    }
   ],
   "source": [
    "print(\n",
    "    (function(\n",
    "        number_of_dice, \n",
    "        number_of_sides, \n",
    "        number_of_rolls) \n",
    "        replicate(\n",
    "            number_of_dice, \n",
    "            sample(\n",
    "                1:number_of_sides, \n",
    "                number_of_rolls, \n",
    "                replace = TRUE))\n",
    "     )(\n",
    "        number_of_dice = 5, \n",
    "        number_of_rolls = 10, \n",
    "        number_of_sides = 20))"
   ]
  },
  {
   "cell_type": "markdown",
   "metadata": {},
   "source": [
    "Lets make another anonymous function that makes a boxplot of our dice rolls:"
   ]
  },
  {
   "cell_type": "code",
   "execution_count": 122,
   "metadata": {},
   "outputs": [
    {
     "data": {
      "image/png": "[encoded data removed]",
      "text/plain": [
       "plot without title"
      ]
     },
     "metadata": {},
     "output_type": "display_data"
    }
   ],
   "source": [
    "(function(number_of_dice, \n",
    "          number_of_sides, \n",
    "          number_of_rolls) \n",
    "    boxplot((\n",
    "        replicate(\n",
    "            number_of_dice, \n",
    "            sample(\n",
    "                1:number_of_sides, \n",
    "                number_of_rolls, \n",
    "                replace = TRUE))))\n",
    " )(\n",
    "    number_of_dice = 5, \n",
    "    number_of_rolls = 10, \n",
    "    number_of_sides = 20)"
   ]
  },
  {
   "cell_type": "markdown",
   "metadata": {},
   "source": [
    "We can give the boxplot a title:"
   ]
  },
  {
   "cell_type": "code",
   "execution_count": 123,
   "metadata": {},
   "outputs": [
    {
     "data": {
      "image/png": "[encoded data removed]",
      "text/plain": [
       "Plot with title “here is a boxplot of some dice rolls”"
      ]
     },
     "metadata": {},
     "output_type": "display_data"
    }
   ],
   "source": [
    "(function(number_of_dice, \n",
    "          number_of_sides, \n",
    "          number_of_rolls) \n",
    "    boxplot((\n",
    "        replicate(\n",
    "            number_of_dice, \n",
    "            sample(\n",
    "                1:number_of_sides, \n",
    "                number_of_rolls, \n",
    "                replace = TRUE))), \n",
    "            main = 'here is a boxplot of some dice rolls')\n",
    " )(\n",
    "    number_of_dice = 5, \n",
    "    number_of_rolls = 10, \n",
    "    number_of_sides = 20)"
   ]
  },
  {
   "cell_type": "markdown",
   "metadata": {},
   "source": [
    "We can use `paste()` to pass the function arguments as parts of the title for the figure, by adding `main = paste('the ' , number_of_dice, ' ', number_of_sides, '-sided dice were rolled ', number_of_rolls, ' times', sep='')`"
   ]
  },
  {
   "cell_type": "code",
   "execution_count": 124,
   "metadata": {},
   "outputs": [
    {
     "data": {
      "image/png": "[encoded data removed]",
      "text/plain": [
       "Plot with title “the 5 20-sided dice were rolled 10 times”"
      ]
     },
     "metadata": {},
     "output_type": "display_data"
    }
   ],
   "source": [
    "(function(number_of_dice, \n",
    "          number_of_sides, \n",
    "          number_of_rolls) \n",
    "    boxplot((\n",
    "        replicate(\n",
    "            number_of_dice, \n",
    "            sample(\n",
    "                1:number_of_sides, \n",
    "                number_of_rolls, \n",
    "                replace = TRUE))), \n",
    "            main = paste(\n",
    "        'the ' , number_of_dice, ' ', number_of_sides, '-sided dice were rolled ', number_of_rolls, ' times', \n",
    "                sep=''))\n",
    " )(\n",
    "    number_of_dice = 5, \n",
    "    number_of_rolls = 10, \n",
    "    number_of_sides = 20)"
   ]
  },
  {
   "cell_type": "markdown",
   "metadata": {},
   "source": [
    "We can add some colors to the figure by adding `col = c(1:number_of_dice)`, this will generate enough colors so that each bar has a different color:"
   ]
  },
  {
   "cell_type": "code",
   "execution_count": 125,
   "metadata": {},
   "outputs": [
    {
     "data": {
      "image/png": "[encoded data removed]",
      "text/plain": [
       "Plot with title “the 5 20-sided dice were rolled 10 times”"
      ]
     },
     "metadata": {},
     "output_type": "display_data"
    }
   ],
   "source": [
    "(function(number_of_dice, \n",
    "          number_of_sides, \n",
    "          number_of_rolls) \n",
    "    boxplot((\n",
    "        replicate(\n",
    "            number_of_dice, \n",
    "            sample(\n",
    "                1:number_of_sides, \n",
    "                number_of_rolls, \n",
    "                replace = TRUE))), \n",
    "            main = paste(\n",
    "        'the ' , number_of_dice, ' ', number_of_sides, '-sided dice were rolled ', number_of_rolls, ' times', \n",
    "                sep=''), \n",
    "           col = c(1:number_of_dice))\n",
    " )(\n",
    "    number_of_dice = 5, \n",
    "    number_of_rolls = 10, \n",
    "    number_of_sides = 20)"
   ]
  },
  {
   "cell_type": "markdown",
   "metadata": {},
   "source": [
    "# Importing and Exporting files\n",
    "- There are a few different ways to read and write files in R.\n",
    "- We will use `read.table()` and `write.table()`.\n",
    "- Lets use some of the pre-loaded data that comes with R. \n",
    "- First, let's import the `iris` data as a data frame and use `head()` to look at the first few lines"
   ]
  },
  {
   "cell_type": "code",
   "execution_count": 126,
   "metadata": {},
   "outputs": [
    {
     "data": {
      "text/html": [
       "<table>\n",
       "<caption>A data.frame: 6 × 5</caption>\n",
       "<thead>\n",
       "\t<tr><th scope=col>Sepal.Length</th><th scope=col>Sepal.Width</th><th scope=col>Petal.Length</th><th scope=col>Petal.Width</th><th scope=col>Species</th></tr>\n",
       "\t<tr><th scope=col>&lt;dbl&gt;</th><th scope=col>&lt;dbl&gt;</th><th scope=col>&lt;dbl&gt;</th><th scope=col>&lt;dbl&gt;</th><th scope=col>&lt;fct&gt;</th></tr>\n",
       "</thead>\n",
       "<tbody>\n",
       "\t<tr><td>5.1</td><td>3.5</td><td>1.4</td><td>0.2</td><td>setosa</td></tr>\n",
       "\t<tr><td>4.9</td><td>3.0</td><td>1.4</td><td>0.2</td><td>setosa</td></tr>\n",
       "\t<tr><td>4.7</td><td>3.2</td><td>1.3</td><td>0.2</td><td>setosa</td></tr>\n",
       "\t<tr><td>4.6</td><td>3.1</td><td>1.5</td><td>0.2</td><td>setosa</td></tr>\n",
       "\t<tr><td>5.0</td><td>3.6</td><td>1.4</td><td>0.2</td><td>setosa</td></tr>\n",
       "\t<tr><td>5.4</td><td>3.9</td><td>1.7</td><td>0.4</td><td>setosa</td></tr>\n",
       "</tbody>\n",
       "</table>\n"
      ],
      "text/latex": [
       "A data.frame: 6 × 5\n",
       "\\begin{tabular}{r|lllll}\n",
       " Sepal.Length & Sepal.Width & Petal.Length & Petal.Width & Species\\\\\n",
       " <dbl> & <dbl> & <dbl> & <dbl> & <fct>\\\\\n",
       "\\hline\n",
       "\t 5.1 & 3.5 & 1.4 & 0.2 & setosa\\\\\n",
       "\t 4.9 & 3.0 & 1.4 & 0.2 & setosa\\\\\n",
       "\t 4.7 & 3.2 & 1.3 & 0.2 & setosa\\\\\n",
       "\t 4.6 & 3.1 & 1.5 & 0.2 & setosa\\\\\n",
       "\t 5.0 & 3.6 & 1.4 & 0.2 & setosa\\\\\n",
       "\t 5.4 & 3.9 & 1.7 & 0.4 & setosa\\\\\n",
       "\\end{tabular}\n"
      ],
      "text/markdown": [
       "\n",
       "A data.frame: 6 × 5\n",
       "\n",
       "| Sepal.Length &lt;dbl&gt; | Sepal.Width &lt;dbl&gt; | Petal.Length &lt;dbl&gt; | Petal.Width &lt;dbl&gt; | Species &lt;fct&gt; |\n",
       "|---|---|---|---|---|\n",
       "| 5.1 | 3.5 | 1.4 | 0.2 | setosa |\n",
       "| 4.9 | 3.0 | 1.4 | 0.2 | setosa |\n",
       "| 4.7 | 3.2 | 1.3 | 0.2 | setosa |\n",
       "| 4.6 | 3.1 | 1.5 | 0.2 | setosa |\n",
       "| 5.0 | 3.6 | 1.4 | 0.2 | setosa |\n",
       "| 5.4 | 3.9 | 1.7 | 0.4 | setosa |\n",
       "\n"
      ],
      "text/plain": [
       "  Sepal.Length Sepal.Width Petal.Length Petal.Width Species\n",
       "1 5.1          3.5         1.4          0.2         setosa \n",
       "2 4.9          3.0         1.4          0.2         setosa \n",
       "3 4.7          3.2         1.3          0.2         setosa \n",
       "4 4.6          3.1         1.5          0.2         setosa \n",
       "5 5.0          3.6         1.4          0.2         setosa \n",
       "6 5.4          3.9         1.7          0.4         setosa "
      ]
     },
     "metadata": {},
     "output_type": "display_data"
    }
   ],
   "source": [
    "iris <- data.frame(iris)\n",
    "head(iris)"
   ]
  },
  {
   "cell_type": "markdown",
   "metadata": {},
   "source": [
    "You can write the output to a file using `write.table`:"
   ]
  },
  {
   "cell_type": "code",
   "execution_count": 127,
   "metadata": {},
   "outputs": [],
   "source": [
    "write.table(iris, file = '~/iris_table.txt')"
   ]
  },
  {
   "cell_type": "markdown",
   "metadata": {},
   "source": [
    "Use `read.table()` to pull data into R:"
   ]
  },
  {
   "cell_type": "code",
   "execution_count": 128,
   "metadata": {},
   "outputs": [],
   "source": [
    "iris_table_2 <- read.table('~/iris_table.txt')"
   ]
  },
  {
   "cell_type": "code",
   "execution_count": 129,
   "metadata": {},
   "outputs": [
    {
     "data": {
      "text/html": [
       "<table>\n",
       "<caption>A data.frame: 6 × 5</caption>\n",
       "<thead>\n",
       "\t<tr><th scope=col>Sepal.Length</th><th scope=col>Sepal.Width</th><th scope=col>Petal.Length</th><th scope=col>Petal.Width</th><th scope=col>Species</th></tr>\n",
       "\t<tr><th scope=col>&lt;dbl&gt;</th><th scope=col>&lt;dbl&gt;</th><th scope=col>&lt;dbl&gt;</th><th scope=col>&lt;dbl&gt;</th><th scope=col>&lt;fct&gt;</th></tr>\n",
       "</thead>\n",
       "<tbody>\n",
       "\t<tr><td>5.1</td><td>3.5</td><td>1.4</td><td>0.2</td><td>setosa</td></tr>\n",
       "\t<tr><td>4.9</td><td>3.0</td><td>1.4</td><td>0.2</td><td>setosa</td></tr>\n",
       "\t<tr><td>4.7</td><td>3.2</td><td>1.3</td><td>0.2</td><td>setosa</td></tr>\n",
       "\t<tr><td>4.6</td><td>3.1</td><td>1.5</td><td>0.2</td><td>setosa</td></tr>\n",
       "\t<tr><td>5.0</td><td>3.6</td><td>1.4</td><td>0.2</td><td>setosa</td></tr>\n",
       "\t<tr><td>5.4</td><td>3.9</td><td>1.7</td><td>0.4</td><td>setosa</td></tr>\n",
       "</tbody>\n",
       "</table>\n"
      ],
      "text/latex": [
       "A data.frame: 6 × 5\n",
       "\\begin{tabular}{r|lllll}\n",
       " Sepal.Length & Sepal.Width & Petal.Length & Petal.Width & Species\\\\\n",
       " <dbl> & <dbl> & <dbl> & <dbl> & <fct>\\\\\n",
       "\\hline\n",
       "\t 5.1 & 3.5 & 1.4 & 0.2 & setosa\\\\\n",
       "\t 4.9 & 3.0 & 1.4 & 0.2 & setosa\\\\\n",
       "\t 4.7 & 3.2 & 1.3 & 0.2 & setosa\\\\\n",
       "\t 4.6 & 3.1 & 1.5 & 0.2 & setosa\\\\\n",
       "\t 5.0 & 3.6 & 1.4 & 0.2 & setosa\\\\\n",
       "\t 5.4 & 3.9 & 1.7 & 0.4 & setosa\\\\\n",
       "\\end{tabular}\n"
      ],
      "text/markdown": [
       "\n",
       "A data.frame: 6 × 5\n",
       "\n",
       "| Sepal.Length &lt;dbl&gt; | Sepal.Width &lt;dbl&gt; | Petal.Length &lt;dbl&gt; | Petal.Width &lt;dbl&gt; | Species &lt;fct&gt; |\n",
       "|---|---|---|---|---|\n",
       "| 5.1 | 3.5 | 1.4 | 0.2 | setosa |\n",
       "| 4.9 | 3.0 | 1.4 | 0.2 | setosa |\n",
       "| 4.7 | 3.2 | 1.3 | 0.2 | setosa |\n",
       "| 4.6 | 3.1 | 1.5 | 0.2 | setosa |\n",
       "| 5.0 | 3.6 | 1.4 | 0.2 | setosa |\n",
       "| 5.4 | 3.9 | 1.7 | 0.4 | setosa |\n",
       "\n"
      ],
      "text/plain": [
       "  Sepal.Length Sepal.Width Petal.Length Petal.Width Species\n",
       "1 5.1          3.5         1.4          0.2         setosa \n",
       "2 4.9          3.0         1.4          0.2         setosa \n",
       "3 4.7          3.2         1.3          0.2         setosa \n",
       "4 4.6          3.1         1.5          0.2         setosa \n",
       "5 5.0          3.6         1.4          0.2         setosa \n",
       "6 5.4          3.9         1.7          0.4         setosa "
      ]
     },
     "metadata": {},
     "output_type": "display_data"
    }
   ],
   "source": [
    "head(iris_table_2)"
   ]
  },
  {
   "cell_type": "markdown",
   "metadata": {},
   "source": [
    "Notice that the `Species` column is a factor (`<fct>`). If we'd like text strings to be characters instead of factors when we import we can use `stringsAsFactors = FALSE`:"
   ]
  },
  {
   "cell_type": "code",
   "execution_count": 130,
   "metadata": {},
   "outputs": [],
   "source": [
    "iris_table_3 <- read.table('~/iris_table.txt', stringsAsFactors = FALSE)"
   ]
  },
  {
   "cell_type": "code",
   "execution_count": 131,
   "metadata": {},
   "outputs": [
    {
     "data": {
      "text/html": [
       "<table>\n",
       "<caption>A data.frame: 6 × 5</caption>\n",
       "<thead>\n",
       "\t<tr><th scope=col>Sepal.Length</th><th scope=col>Sepal.Width</th><th scope=col>Petal.Length</th><th scope=col>Petal.Width</th><th scope=col>Species</th></tr>\n",
       "\t<tr><th scope=col>&lt;dbl&gt;</th><th scope=col>&lt;dbl&gt;</th><th scope=col>&lt;dbl&gt;</th><th scope=col>&lt;dbl&gt;</th><th scope=col>&lt;chr&gt;</th></tr>\n",
       "</thead>\n",
       "<tbody>\n",
       "\t<tr><td>5.1</td><td>3.5</td><td>1.4</td><td>0.2</td><td>setosa</td></tr>\n",
       "\t<tr><td>4.9</td><td>3.0</td><td>1.4</td><td>0.2</td><td>setosa</td></tr>\n",
       "\t<tr><td>4.7</td><td>3.2</td><td>1.3</td><td>0.2</td><td>setosa</td></tr>\n",
       "\t<tr><td>4.6</td><td>3.1</td><td>1.5</td><td>0.2</td><td>setosa</td></tr>\n",
       "\t<tr><td>5.0</td><td>3.6</td><td>1.4</td><td>0.2</td><td>setosa</td></tr>\n",
       "\t<tr><td>5.4</td><td>3.9</td><td>1.7</td><td>0.4</td><td>setosa</td></tr>\n",
       "</tbody>\n",
       "</table>\n"
      ],
      "text/latex": [
       "A data.frame: 6 × 5\n",
       "\\begin{tabular}{r|lllll}\n",
       " Sepal.Length & Sepal.Width & Petal.Length & Petal.Width & Species\\\\\n",
       " <dbl> & <dbl> & <dbl> & <dbl> & <chr>\\\\\n",
       "\\hline\n",
       "\t 5.1 & 3.5 & 1.4 & 0.2 & setosa\\\\\n",
       "\t 4.9 & 3.0 & 1.4 & 0.2 & setosa\\\\\n",
       "\t 4.7 & 3.2 & 1.3 & 0.2 & setosa\\\\\n",
       "\t 4.6 & 3.1 & 1.5 & 0.2 & setosa\\\\\n",
       "\t 5.0 & 3.6 & 1.4 & 0.2 & setosa\\\\\n",
       "\t 5.4 & 3.9 & 1.7 & 0.4 & setosa\\\\\n",
       "\\end{tabular}\n"
      ],
      "text/markdown": [
       "\n",
       "A data.frame: 6 × 5\n",
       "\n",
       "| Sepal.Length &lt;dbl&gt; | Sepal.Width &lt;dbl&gt; | Petal.Length &lt;dbl&gt; | Petal.Width &lt;dbl&gt; | Species &lt;chr&gt; |\n",
       "|---|---|---|---|---|\n",
       "| 5.1 | 3.5 | 1.4 | 0.2 | setosa |\n",
       "| 4.9 | 3.0 | 1.4 | 0.2 | setosa |\n",
       "| 4.7 | 3.2 | 1.3 | 0.2 | setosa |\n",
       "| 4.6 | 3.1 | 1.5 | 0.2 | setosa |\n",
       "| 5.0 | 3.6 | 1.4 | 0.2 | setosa |\n",
       "| 5.4 | 3.9 | 1.7 | 0.4 | setosa |\n",
       "\n"
      ],
      "text/plain": [
       "  Sepal.Length Sepal.Width Petal.Length Petal.Width Species\n",
       "1 5.1          3.5         1.4          0.2         setosa \n",
       "2 4.9          3.0         1.4          0.2         setosa \n",
       "3 4.7          3.2         1.3          0.2         setosa \n",
       "4 4.6          3.1         1.5          0.2         setosa \n",
       "5 5.0          3.6         1.4          0.2         setosa \n",
       "6 5.4          3.9         1.7          0.4         setosa "
      ]
     },
     "metadata": {},
     "output_type": "display_data"
    }
   ],
   "source": [
    "head(iris_table_3)"
   ]
  },
  {
   "cell_type": "markdown",
   "metadata": {},
   "source": [
    "Notice that the `Species` column is a character (`<chr>`)\n",
    "To convert back into a factor:"
   ]
  },
  {
   "cell_type": "code",
   "execution_count": 132,
   "metadata": {},
   "outputs": [],
   "source": [
    "iris_table_3$Species <- as.factor(iris_table_3$Species)"
   ]
  },
  {
   "cell_type": "code",
   "execution_count": 133,
   "metadata": {},
   "outputs": [
    {
     "data": {
      "text/html": [
       "<table>\n",
       "<caption>A data.frame: 6 × 5</caption>\n",
       "<thead>\n",
       "\t<tr><th scope=col>Sepal.Length</th><th scope=col>Sepal.Width</th><th scope=col>Petal.Length</th><th scope=col>Petal.Width</th><th scope=col>Species</th></tr>\n",
       "\t<tr><th scope=col>&lt;dbl&gt;</th><th scope=col>&lt;dbl&gt;</th><th scope=col>&lt;dbl&gt;</th><th scope=col>&lt;dbl&gt;</th><th scope=col>&lt;fct&gt;</th></tr>\n",
       "</thead>\n",
       "<tbody>\n",
       "\t<tr><td>5.1</td><td>3.5</td><td>1.4</td><td>0.2</td><td>setosa</td></tr>\n",
       "\t<tr><td>4.9</td><td>3.0</td><td>1.4</td><td>0.2</td><td>setosa</td></tr>\n",
       "\t<tr><td>4.7</td><td>3.2</td><td>1.3</td><td>0.2</td><td>setosa</td></tr>\n",
       "\t<tr><td>4.6</td><td>3.1</td><td>1.5</td><td>0.2</td><td>setosa</td></tr>\n",
       "\t<tr><td>5.0</td><td>3.6</td><td>1.4</td><td>0.2</td><td>setosa</td></tr>\n",
       "\t<tr><td>5.4</td><td>3.9</td><td>1.7</td><td>0.4</td><td>setosa</td></tr>\n",
       "</tbody>\n",
       "</table>\n"
      ],
      "text/latex": [
       "A data.frame: 6 × 5\n",
       "\\begin{tabular}{r|lllll}\n",
       " Sepal.Length & Sepal.Width & Petal.Length & Petal.Width & Species\\\\\n",
       " <dbl> & <dbl> & <dbl> & <dbl> & <fct>\\\\\n",
       "\\hline\n",
       "\t 5.1 & 3.5 & 1.4 & 0.2 & setosa\\\\\n",
       "\t 4.9 & 3.0 & 1.4 & 0.2 & setosa\\\\\n",
       "\t 4.7 & 3.2 & 1.3 & 0.2 & setosa\\\\\n",
       "\t 4.6 & 3.1 & 1.5 & 0.2 & setosa\\\\\n",
       "\t 5.0 & 3.6 & 1.4 & 0.2 & setosa\\\\\n",
       "\t 5.4 & 3.9 & 1.7 & 0.4 & setosa\\\\\n",
       "\\end{tabular}\n"
      ],
      "text/markdown": [
       "\n",
       "A data.frame: 6 × 5\n",
       "\n",
       "| Sepal.Length &lt;dbl&gt; | Sepal.Width &lt;dbl&gt; | Petal.Length &lt;dbl&gt; | Petal.Width &lt;dbl&gt; | Species &lt;fct&gt; |\n",
       "|---|---|---|---|---|\n",
       "| 5.1 | 3.5 | 1.4 | 0.2 | setosa |\n",
       "| 4.9 | 3.0 | 1.4 | 0.2 | setosa |\n",
       "| 4.7 | 3.2 | 1.3 | 0.2 | setosa |\n",
       "| 4.6 | 3.1 | 1.5 | 0.2 | setosa |\n",
       "| 5.0 | 3.6 | 1.4 | 0.2 | setosa |\n",
       "| 5.4 | 3.9 | 1.7 | 0.4 | setosa |\n",
       "\n"
      ],
      "text/plain": [
       "  Sepal.Length Sepal.Width Petal.Length Petal.Width Species\n",
       "1 5.1          3.5         1.4          0.2         setosa \n",
       "2 4.9          3.0         1.4          0.2         setosa \n",
       "3 4.7          3.2         1.3          0.2         setosa \n",
       "4 4.6          3.1         1.5          0.2         setosa \n",
       "5 5.0          3.6         1.4          0.2         setosa \n",
       "6 5.4          3.9         1.7          0.4         setosa "
      ]
     },
     "metadata": {},
     "output_type": "display_data"
    }
   ],
   "source": [
    "head(iris_table_3)"
   ]
  },
  {
   "cell_type": "markdown",
   "metadata": {},
   "source": [
    "Another convenient function is `list.files()`, which you can use with a wildcard (`*`) to return a list of all files in a directory (specified in `path =`) that start with `iris_`:"
   ]
  },
  {
   "cell_type": "code",
   "execution_count": 134,
   "metadata": {},
   "outputs": [
    {
     "data": {
      "text/html": [
       "<ol class=list-inline>\n",
       "\t<li>'iris_csv.csv'</li>\n",
       "\t<li>'iris_table.txt'</li>\n",
       "</ol>\n"
      ],
      "text/latex": [
       "\\begin{enumerate*}\n",
       "\\item 'iris\\_csv.csv'\n",
       "\\item 'iris\\_table.txt'\n",
       "\\end{enumerate*}\n"
      ],
      "text/markdown": [
       "1. 'iris_csv.csv'\n",
       "2. 'iris_table.txt'\n",
       "\n",
       "\n"
      ],
      "text/plain": [
       "[1] \"iris_csv.csv\"   \"iris_table.txt\""
      ]
     },
     "metadata": {},
     "output_type": "display_data"
    }
   ],
   "source": [
    "list.files(path = '~', pattern = 'iris_*')"
   ]
  },
  {
   "cell_type": "markdown",
   "metadata": {},
   "source": [
    "# R packages\n",
    "- Although R comes with many built in functions, you will probably want to install and use various R packages.\n",
    "- You can install the packages using `install.packages('package_name_here')` (where you would replace 'package_name_here' with your package of choice, in quotes). \n",
    "- This will download the package and any additional required dependencies. \n",
    "- Uncomment out the next line (e.g., remove the #) to install the the 'ggplot2' package:"
   ]
  },
  {
   "cell_type": "code",
   "execution_count": 135,
   "metadata": {},
   "outputs": [
    {
     "name": "stdout",
     "output_type": "stream",
     "text": [
      "\n",
      "The downloaded binary packages are in\n",
      "\t/var/folders/72/vj4x94hd7375wt06bb5fr36hwbf4ln/T//RtmpgK2EAd/downloaded_packages\n"
     ]
    }
   ],
   "source": [
    "install.packages('ggplot2')"
   ]
  },
  {
   "cell_type": "markdown",
   "metadata": {},
   "source": [
    "Before you can actually use the package, you have to load it as follows:"
   ]
  },
  {
   "cell_type": "code",
   "execution_count": 136,
   "metadata": {},
   "outputs": [],
   "source": [
    "library('ggplot2')"
   ]
  },
  {
   "cell_type": "markdown",
   "metadata": {},
   "source": [
    "Most R packages are found in CRAN - the central repository for R package. However, packages can be found in different places. Many of the packages of interest for biologists will be in Bioconductor. \n",
    "\n",
    "There are two steps to downloading a package from Bioconductor -- first, install BiocManager (again, remove the # to actually run the install)."
   ]
  },
  {
   "cell_type": "code",
   "execution_count": 137,
   "metadata": {},
   "outputs": [
    {
     "name": "stdout",
     "output_type": "stream",
     "text": [
      "\n",
      "The downloaded binary packages are in\n",
      "\t/var/folders/72/vj4x94hd7375wt06bb5fr36hwbf4ln/T//RtmpgK2EAd/downloaded_packages\n"
     ]
    }
   ],
   "source": [
    "install.packages(\"BiocManager\")"
   ]
  },
  {
   "cell_type": "markdown",
   "metadata": {},
   "source": [
    "Then, load `BiocManager` and use `BiocManager::install()` to install a package."
   ]
  },
  {
   "cell_type": "code",
   "execution_count": 138,
   "metadata": {},
   "outputs": [
    {
     "name": "stderr",
     "output_type": "stream",
     "text": [
      "Bioconductor version 3.8 (BiocManager 1.30.9), ?BiocManager::install for help\n",
      "Bioconductor version 3.8 (BiocManager 1.30.9), R 3.5.2 (2018-12-20)\n",
      "Installing package(s) 'org.Hs.eg.db'\n",
      "installing the source package ‘org.Hs.eg.db’\n",
      "\n",
      "Old packages: 'arrangements', 'backports', 'callr', 'clipr', 'curl',\n",
      "  'data.table', 'devtools', 'digest', 'DT', 'ellipsis', 'fivethirtyeight',\n",
      "  'foreign', 'ggforce', 'ggplotify', 'ggpubr', 'ggraph', 'ggsignif', 'hms',\n",
      "  'htmlTable', 'htmltools', 'htmlwidgets', 'httpuv', 'httr', 'KernSmooth',\n",
      "  'knitr', 'lambda.r', 'later', 'markdown', 'matrixStats', 'mgcv', 'modelr',\n",
      "  'nlme', 'openxlsx', 'pkgbuild', 'pkgconfig', 'promises', 'purrr', 'R.oo',\n",
      "  'Rcpp', 'RcppArmadillo', 'rlang', 'rmarkdown', 'RSQLite', 'rvcheck',\n",
      "  'seqinr', 'shiny', 'survival', 'sys', 'testthat', 'tinytex', 'units',\n",
      "  'whisker', 'xfun', 'xml2', 'zip'\n"
     ]
    }
   ],
   "source": [
    "library('BiocManager')\n",
    "BiocManager::install(\"org.Hs.eg.db\")"
   ]
  },
  {
   "cell_type": "markdown",
   "metadata": {},
   "source": [
    "Use the `sessionInfo()` function to see more information about your loaded R packages and namespace:"
   ]
  },
  {
   "cell_type": "code",
   "execution_count": 139,
   "metadata": {},
   "outputs": [
    {
     "name": "stdout",
     "output_type": "stream",
     "text": [
      "R version 3.5.2 (2018-12-20)\n",
      "Platform: x86_64-apple-darwin15.6.0 (64-bit)\n",
      "Running under: macOS Mojave 10.14.2\n",
      "\n",
      "Matrix products: default\n",
      "BLAS: /Library/Frameworks/R.framework/Versions/3.5/Resources/lib/libRblas.0.dylib\n",
      "LAPACK: /Library/Frameworks/R.framework/Versions/3.5/Resources/lib/libRlapack.dylib\n",
      "\n",
      "locale:\n",
      "[1] en_US.UTF-8/en_US.UTF-8/en_US.UTF-8/C/en_US.UTF-8/en_US.UTF-8\n",
      "\n",
      "attached base packages:\n",
      "[1] stats     graphics  grDevices utils     datasets  methods   base     \n",
      "\n",
      "other attached packages:\n",
      "[1] BiocManager_1.30.9 ggplot2_3.2.1     \n",
      "\n",
      "loaded via a namespace (and not attached):\n",
      " [1] Rcpp_1.0.1       magrittr_1.5     tidyselect_0.2.5 munsell_0.5.0   \n",
      " [5] uuid_0.1-2       colorspace_1.4-1 R6_2.4.0         rlang_0.4.0     \n",
      " [9] dplyr_0.8.3      tools_3.5.2      grid_3.5.2       gtable_0.3.0    \n",
      "[13] withr_2.1.2      htmltools_0.3.6  assertthat_0.2.1 lazyeval_0.2.2  \n",
      "[17] digest_0.6.20    tibble_2.1.3     crayon_1.3.4     IRdisplay_0.7.0 \n",
      "[21] purrr_0.3.2      repr_1.0.1       base64enc_0.1-3  vctrs_0.2.0     \n",
      "[25] IRkernel_1.0.2   zeallot_0.1.0    glue_1.3.1       evaluate_0.14   \n",
      "[29] pbdZMQ_0.3-3     compiler_3.5.2   pillar_1.4.2     scales_1.0.0    \n",
      "[33] backports_1.1.4  jsonlite_1.6     pkgconfig_2.0.2 \n"
     ]
    }
   ],
   "source": [
    "print(sessionInfo())"
   ]
  },
  {
   "cell_type": "markdown",
   "metadata": {},
   "source": [
    "# If we have time, we can talk about some `apply()` functions:"
   ]
  },
  {
   "cell_type": "markdown",
   "metadata": {},
   "source": [
    "## The `apply()` functions\n",
    "- R uses a family of `apply()` functions to repetitively manipulate objects while avoiding for loops. \n",
    "- How you use them will depend on the format of your data and what operations you're trying to perform.\n",
    "- We will talk about `apply()`, `lapply()`, and `sapply()`.\n",
    "- There is also `mapply()`, `vapply()`, `rapply()`, and `tapply()`, but we won't talk about those today.\n",
    "\n",
    "- **`apply()`** Applies a function to an array (or matrix) and returns an array (or matrix)\n",
    "- **`lapply()`** Applies a function to each element of a list or vector and returns a list\n",
    "- **`sapply()`** Applies a function to each element of a list or vector and returns a vector\n"
   ]
  },
  {
   "cell_type": "markdown",
   "metadata": {},
   "source": [
    "### `apply()` \n",
    "- `apply()` applies a function to an array (or matrix) and returns an array (or matrix)\n",
    "- The general format of an `apply()` call is as follows:\n",
    "\n",
    "```\n",
    "apply(X, MARGIN, FUN, ...)\n",
    "\n",
    "```\n",
    "- `X` is the array or matrix to apply the function\n",
    "- `MARGIN` is where the function should be applied - `1` is for rows, `2` is for columns, `c(1,2)` is rows and columns, can also be a character vector of dimension names if `X` has dimnames.\n",
    "- `FUN` Function to be applied\n",
    "Let's go back to the dice rolling function:"
   ]
  },
  {
   "cell_type": "code",
   "execution_count": 140,
   "metadata": {},
   "outputs": [],
   "source": [
    "rolled_dice <- roll(number_of_rolls = 10, number_of_sides = 20, number_of_dice = 5)"
   ]
  },
  {
   "cell_type": "code",
   "execution_count": 141,
   "metadata": {},
   "outputs": [
    {
     "name": "stdout",
     "output_type": "stream",
     "text": [
      "     [,1] [,2] [,3] [,4] [,5] [,6] [,7] [,8] [,9] [,10]\n",
      "[1,]   14   16   19    6   18    1   20   14    1    16\n",
      "[2,]    7    1    6   14    2    5    5    8   10    14\n",
      "[3,]   15    8    9   14   11    5   10   14    9    12\n",
      "[4,]   13   15   13   14   14   20    5   10   12    11\n",
      "[5,]   17   11    1   11    6    6    6    9    9     7\n"
     ]
    }
   ],
   "source": [
    "print(rolled_dice)"
   ]
  },
  {
   "cell_type": "code",
   "execution_count": 142,
   "metadata": {},
   "outputs": [
    {
     "data": {
      "text/html": [
       "'matrix'"
      ],
      "text/latex": [
       "'matrix'"
      ],
      "text/markdown": [
       "'matrix'"
      ],
      "text/plain": [
       "[1] \"matrix\""
      ]
     },
     "metadata": {},
     "output_type": "display_data"
    }
   ],
   "source": [
    "class(rolled_dice)"
   ]
  },
  {
   "cell_type": "markdown",
   "metadata": {},
   "source": [
    "I'm going to name the rows and columns using the `paste()` and `dimnames()`:"
   ]
  },
  {
   "cell_type": "code",
   "execution_count": 143,
   "metadata": {},
   "outputs": [
    {
     "name": "stdout",
     "output_type": "stream",
     "text": [
      "       die_1 die_2 die_3 die_4 die_5 die_6 die_7 die_8 die_9 die_10\n",
      "roll_1    14    16    19     6    18     1    20    14     1     16\n",
      "roll_2     7     1     6    14     2     5     5     8    10     14\n",
      "roll_3    15     8     9    14    11     5    10    14     9     12\n",
      "roll_4    13    15    13    14    14    20     5    10    12     11\n",
      "roll_5    17    11     1    11     6     6     6     9     9      7\n"
     ]
    }
   ],
   "source": [
    "dimnames(rolled_dice) <- list(\n",
    "paste('roll', 1:5, sep = '_'),\n",
    "    paste('die', 1:10, sep = '_'))\n",
    "\n",
    "print(rolled_dice)"
   ]
  },
  {
   "cell_type": "markdown",
   "metadata": {},
   "source": [
    "Let's try using `apply()` to increase every value by 1:"
   ]
  },
  {
   "cell_type": "code",
   "execution_count": 144,
   "metadata": {},
   "outputs": [
    {
     "data": {
      "text/html": [
       "'matrix'"
      ],
      "text/latex": [
       "'matrix'"
      ],
      "text/markdown": [
       "'matrix'"
      ],
      "text/plain": [
       "[1] \"matrix\""
      ]
     },
     "metadata": {},
     "output_type": "display_data"
    },
    {
     "name": "stdout",
     "output_type": "stream",
     "text": [
      "       die_1 die_2 die_3 die_4 die_5 die_6 die_7 die_8 die_9 die_10\n",
      "roll_1    15    17    20     7    19     2    21    15     2     17\n",
      "roll_2     8     2     7    15     3     6     6     9    11     15\n",
      "roll_3    16     9    10    15    12     6    11    15    10     13\n",
      "roll_4    14    16    14    15    15    21     6    11    13     12\n",
      "roll_5    18    12     2    12     7     7     7    10    10      8\n"
     ]
    }
   ],
   "source": [
    "add_one <- apply(rolled_dice, c(1,2), function(element) element + 1)\n",
    "class(add_one)\n",
    "print(add_one)"
   ]
  },
  {
   "cell_type": "markdown",
   "metadata": {},
   "source": [
    "- The `c(1,2)` argument to `apply()` means that the function should apply to all rows and columns.\n",
    "- What about if we use apply to calculate sums for each row and column?"
   ]
  },
  {
   "cell_type": "markdown",
   "metadata": {},
   "source": [
    "If we use `1` it will apply the function to each row:"
   ]
  },
  {
   "cell_type": "code",
   "execution_count": 145,
   "metadata": {},
   "outputs": [
    {
     "name": "stdout",
     "output_type": "stream",
     "text": [
      "roll_1 roll_2 roll_3 roll_4 roll_5 \n",
      "   125     72    107    127     83 \n"
     ]
    }
   ],
   "source": [
    "row_sums <- apply(rolled_dice, 1, function(element) sum(element))\n",
    "print(row_sums)       "
   ]
  },
  {
   "cell_type": "code",
   "execution_count": 146,
   "metadata": {},
   "outputs": [
    {
     "ename": "ERROR",
     "evalue": "Error in parse(text = x, srcfile = src): <text>:1:4: unexpected symbol\n1: If we\n       ^\n",
     "output_type": "error",
     "traceback": [
      "Error in parse(text = x, srcfile = src): <text>:1:4: unexpected symbol\n1: If we\n       ^\nTraceback:\n"
     ]
    }
   ],
   "source": [
    "If we use `2` it will apply the function to each column:"
   ]
  },
  {
   "cell_type": "code",
   "execution_count": null,
   "metadata": {},
   "outputs": [],
   "source": [
    "col_sums <- apply(rolled_dice, 2, function(element) sum(element))\n",
    "print(col_sums) "
   ]
  },
  {
   "cell_type": "markdown",
   "metadata": {},
   "source": [
    "### `lapply()`"
   ]
  },
  {
   "cell_type": "markdown",
   "metadata": {},
   "source": [
    "- `lapply()` works on lists and returns a list.\n",
    "- Since a data frame is a series of lists, if you apply it to a data frame it will execute the function on each column of the data frame.\n",
    "- The general format is as follows:\n",
    "\n",
    "```\n",
    "lapply(X, FUN)\n",
    "\n",
    "```\n",
    "- `X`  A vector or an object\n",
    "- `FUN` Function applied to each element of X\n"
   ]
  },
  {
   "cell_type": "code",
   "execution_count": null,
   "metadata": {},
   "outputs": [],
   "source": [
    "rolled_dice_df <- as.data.frame(rolled_dice)\n",
    "class(rolled_dice_df)"
   ]
  },
  {
   "cell_type": "code",
   "execution_count": null,
   "metadata": {},
   "outputs": [],
   "source": [
    "print(rolled_dice_df)"
   ]
  },
  {
   "cell_type": "code",
   "execution_count": null,
   "metadata": {},
   "outputs": [],
   "source": [
    "col_sums_df <- lapply(rolled_dice_df, sum)"
   ]
  },
  {
   "cell_type": "code",
   "execution_count": null,
   "metadata": {},
   "outputs": [],
   "source": [
    "str(col_sums_df)"
   ]
  },
  {
   "cell_type": "code",
   "execution_count": null,
   "metadata": {},
   "outputs": [],
   "source": [
    "rolled_dice"
   ]
  },
  {
   "cell_type": "markdown",
   "metadata": {},
   "source": [
    "However, if you use `lapply()` to calculate sums on the `rolled_dice` matrix, you get back a very long list (since `lapply()` wants to return a list)."
   ]
  },
  {
   "cell_type": "code",
   "execution_count": null,
   "metadata": {},
   "outputs": [],
   "source": [
    "class(rolled_dice)"
   ]
  },
  {
   "cell_type": "code",
   "execution_count": null,
   "metadata": {},
   "outputs": [],
   "source": [
    "col_sums <- lapply(rolled_dice, sum)\n",
    "str(col_sums)"
   ]
  },
  {
   "cell_type": "markdown",
   "metadata": {},
   "source": [
    "### `sapply`"
   ]
  },
  {
   "cell_type": "code",
   "execution_count": null,
   "metadata": {},
   "outputs": [],
   "source": [
    "- `sapply()` is similar to `lapply()`, but it returns a vector rather than a list.\n",
    "- The general format for an `sapply()` call is as follows:\n",
    "\n",
    "```\n",
    "sapply(X, FUN)\n",
    "\n",
    "```\n",
    "- `X`  A vector or an object\n",
    "- `FUN` Function applied to each element of x"
   ]
  },
  {
   "cell_type": "code",
   "execution_count": null,
   "metadata": {},
   "outputs": [],
   "source": [
    "col_sums_df <- sapply(rolled_dice_df, sum)"
   ]
  },
  {
   "cell_type": "code",
   "execution_count": null,
   "metadata": {},
   "outputs": [],
   "source": [
    "class(col_sums_df)\n",
    "is.vector(col_sums_df)"
   ]
  },
  {
   "cell_type": "code",
   "execution_count": null,
   "metadata": {},
   "outputs": [],
   "source": [
    "print(col_sums_df)"
   ]
  }
 ],
 "metadata": {
  "kernelspec": {
   "display_name": "R",
   "language": "R",
   "name": "ir"
  },
  "language_info": {
   "codemirror_mode": "r",
   "file_extension": ".r",
   "mimetype": "text/x-r-source",
   "name": "R",
   "pygments_lexer": "r",
   "version": "3.5.2"
  }
 },
 "nbformat": 4,
 "nbformat_minor": 4
}
