{
 "cells": [
  {
   "cell_type": "raw",
   "metadata": {
    "raw_mimetype": "text/markdown",
    "slideshow": {
     "slide_type": "slide"
    }
   },
   "source": [
    "# What is R?\n",
    "\n",
    "R is a programming langauge. It can be tailored to your needs by installing and using specific packages for statistics, analyzing biological data, data visualization, etc. You can use R interactively (e.g., enter commands into the R console), write and run R scripts, or generate reports and documents using R notebooks and markdown files. \n",
    "\n",
    "# Objects\n",
    "\n",
    "Everything in R is an object. Each object has a given type, and objects can be assigned to variables.\n",
    "\n",
    "R objects are assigned to variables using the assignment operator, '<-'\n",
    "For example:"
   ]
  },
  {
   "cell_type": "code",
   "execution_count": null,
   "metadata": {},
   "outputs": [],
   "source": [
    "a <- 1"
   ]
  },
  {
   "cell_type": "raw",
   "metadata": {},
   "source": [
    "We can look at the output using the `print()` function or by just typing `a`."
   ]
  },
  {
   "cell_type": "code",
   "execution_count": null,
   "metadata": {},
   "outputs": [],
   "source": [
    "print(a)"
   ]
  },
  {
   "cell_type": "code",
   "execution_count": null,
   "metadata": {},
   "outputs": [],
   "source": [
    "a"
   ]
  },
  {
   "cell_type": "raw",
   "metadata": {},
   "source": [
    "# Variables\n",
    "\n",
    "We can name our variables anything as long as they are a combination of letters, numbers, dots, and underscores, however:\n",
    "\n",
    "1. Variables can't start with a number.\n",
    "2. Variables can't start with a dot if it followed directly by a number (directly following letters are OK).\n",
    "3. Variables can't start with an underscore.\n",
    "\n",
    "For example:"
   ]
  },
  {
   "cell_type": "code",
   "execution_count": null,
   "metadata": {},
   "outputs": [],
   "source": [
    "b.b <- 1.1\n",
    ".cat <- 'cat' \n",
    "dog_ <- TRUE\n",
    "egg <- (1L)\n",
    "foo <- 2i"
   ]
  },
  {
   "cell_type": "raw",
   "metadata": {},
   "source": [
    "# Data classes\n",
    "\n",
    "R has 5 basic data classes, including:\n",
    "\n",
    "1. `character`, which is a string\n",
    "2. `numeric`, which can be `real` (a rounded number) or `decimal` (a number including a decimal point).\n",
    "3. `integer`, which can be a rounded number (but not a decimal) \n",
    "4. `logical`, which can be either `TRUE` or `FALSE`\n",
    "5. `complex`, allows you to use imaginary numbers \n",
    "\n",
    "Let's look at the data types of our variables we have just assigned:"
   ]
  },
  {
   "cell_type": "code",
   "execution_count": null,
   "metadata": {},
   "outputs": [],
   "source": [
    "class(a)\n",
    "class(b.b)\n",
    "class(.cat)\n",
    "class(dog_)\n",
    "class(egg)\n",
    "class(foo)"
   ]
  },
  {
   "cell_type": "raw",
   "metadata": {},
   "source": [
    "The `L` we included when we assigned `egg` tells R that this object should be stored as an integer.\n",
    "\n",
    "If you want to learn more about the `class()` function (or any other function), you can use the `?` symbol and the name of the function (for example, `?class`)."
   ]
  },
  {
   "cell_type": "raw",
   "metadata": {},
   "source": [
    "# Vectors\n",
    "\n",
    "R objects can contain more than one element. An R object that contains more than one element is called a vector. You can create a vector using the `c()` function or directly assigning them. The `c()` function will coerce all of the arguments to a common data type and combine them to form a vector. Here's a few examples of how you can assign vectors:"
   ]
  },
  {
   "cell_type": "code",
   "execution_count": null,
   "metadata": {},
   "outputs": [],
   "source": [
    "numeric_vector <- c(1,2,3,4,5) #makes a numeric vector\n",
    "character_vector <- c('one', 'two', 'three', 'four', 'five') #makes a character vector\n",
    "numeric_vector_2 <- (6:12) #this uses the sequence operator\n",
    "logical_vector <- c(TRUE, TRUE, FALSE)\n",
    "character_vector_2 <- c('a', 'pug', 'is', 'not', 'a', 'big', 'dog')"
   ]
  },
  {
   "cell_type": "raw",
   "metadata": {},
   "source": [
    "You can use the `length()` function to see how long your vectors are:"
   ]
  },
  {
   "cell_type": "code",
   "execution_count": null,
   "metadata": {},
   "outputs": [],
   "source": [
    "length(character_vector_2)\n",
    "length(logical_vector)"
   ]
  },
  {
   "cell_type": "raw",
   "metadata": {},
   "source": [
    "# Vector operations"
   ]
  },
  {
   "cell_type": "raw",
   "metadata": {},
   "source": [
    "You can combine vectors:"
   ]
  },
  {
   "cell_type": "code",
   "execution_count": null,
   "metadata": {},
   "outputs": [],
   "source": [
    "combined_vector <- c(numeric_vector, numeric_vector_2)\n",
    "combined_vector"
   ]
  },
  {
   "cell_type": "raw",
   "metadata": {},
   "source": [
    "You can also access elements of the vector based on the index (or its position in the vector), for example:"
   ]
  },
  {
   "cell_type": "code",
   "execution_count": null,
   "metadata": {},
   "outputs": [],
   "source": [
    "character_vector_2[2]\n",
    "character_vector_2[7]"
   ]
  },
  {
   "cell_type": "raw",
   "metadata": {},
   "source": [
    "R code evaluates from the inside out:"
   ]
  },
  {
   "cell_type": "code",
   "execution_count": null,
   "metadata": {},
   "outputs": [],
   "source": [
    "character_vector_2[length(character_vector_2)]"
   ]
  },
  {
   "cell_type": "raw",
   "metadata": {},
   "source": [
    "Here, R is reading `length(vector_5)` first. The value returned by the `length()` function is then used to access the last entry in the vector."
   ]
  },
  {
   "cell_type": "raw",
   "metadata": {},
   "source": [
    "We can use `-c` to remove vector elements:"
   ]
  },
  {
   "cell_type": "code",
   "execution_count": null,
   "metadata": {},
   "outputs": [],
   "source": [
    "character_vector_2[-c(4)]"
   ]
  },
  {
   "cell_type": "raw",
   "metadata": {},
   "source": [
    "If a vector is numerical, we can also perform some math operations on the entire vector. Here, we "
   ]
  },
  {
   "cell_type": "code",
   "execution_count": null,
   "metadata": {},
   "outputs": [],
   "source": [
    "combined_vector\n",
    "sum(combined_vector)"
   ]
  },
  {
   "cell_type": "code",
   "execution_count": null,
   "metadata": {},
   "outputs": [],
   "source": [
    "combined_vector/sum(combined_vector)"
   ]
  },
  {
   "cell_type": "raw",
   "metadata": {},
   "source": [
    "Use the `round()` function to specify you only want 3 digits reported and assign it to a variable called `rounded`"
   ]
  },
  {
   "cell_type": "code",
   "execution_count": null,
   "metadata": {},
   "outputs": [],
   "source": [
    "rounded <- round((combined_vector/sum(combined_vector)), digits = 3)"
   ]
  },
  {
   "cell_type": "raw",
   "metadata": {},
   "source": [
    "You can also perform math operations on two vectors..."
   ]
  },
  {
   "cell_type": "code",
   "execution_count": null,
   "metadata": {},
   "outputs": [],
   "source": [
    "rounded + combined_vector"
   ]
  },
  {
   "cell_type": "raw",
   "metadata": {},
   "source": [
    "but you'll get weird results if the vectors are different lengths:"
   ]
  },
  {
   "cell_type": "code",
   "execution_count": null,
   "metadata": {},
   "outputs": [],
   "source": [
    "rounded + numeric_vector_2"
   ]
  },
  {
   "cell_type": "raw",
   "metadata": {},
   "source": [
    "Let's say you're trying to import some data into R, maybe a vector of measurements:"
   ]
  },
  {
   "cell_type": "code",
   "execution_count": null,
   "metadata": {},
   "outputs": [],
   "source": [
    "your_data <- c('6','5','3','2','11','0','9','9')\n",
    "class(your_data)"
   ]
  },
  {
   "cell_type": "raw",
   "metadata": {},
   "source": [
    "As you can see, there's been some formatting issues and R thinks your measurements are characters. You can coerce them back into numeric values:"
   ]
  },
  {
   "cell_type": "code",
   "execution_count": null,
   "metadata": {},
   "outputs": [],
   "source": [
    "your_new_data <- as.numeric(your_data)\n",
    "your_new_data\n",
    "class(your_new_data)"
   ]
  },
  {
   "cell_type": "raw",
   "metadata": {},
   "source": [
    "What happens if we try to `as.numeric` things that aren't numbers?"
   ]
  },
  {
   "cell_type": "code",
   "execution_count": null,
   "metadata": {},
   "outputs": [],
   "source": [
    "as.numeric(character_vector_2)"
   ]
  },
  {
   "cell_type": "raw",
   "metadata": {},
   "source": [
    "The `<NA>` indicates that these are missing values."
   ]
  },
  {
   "cell_type": "raw",
   "metadata": {},
   "source": [
    "# Missing values"
   ]
  },
  {
   "cell_type": "raw",
   "metadata": {},
   "source": [
    "Missing values can result from things like inappropriate coersion, excel turning everything into a date, encoding format problems, etc."
   ]
  },
  {
   "cell_type": "code",
   "execution_count": null,
   "metadata": {},
   "outputs": [],
   "source": [
    "here_is_a_vector <- as.numeric(c(4/61, 35/52, '19-May', 3/40))"
   ]
  },
  {
   "cell_type": "raw",
   "metadata": {},
   "source": [
    "We can use the `is.na()` function to see if our vector has any `<NA>` values in it:"
   ]
  },
  {
   "cell_type": "code",
   "execution_count": null,
   "metadata": {},
   "outputs": [],
   "source": [
    "is.na(here_is_a_vector)"
   ]
  },
  {
   "cell_type": "raw",
   "metadata": {},
   "source": [
    "You can combine this with the `table()` function to see some tabulated results from `is.na()`:"
   ]
  },
  {
   "cell_type": "code",
   "execution_count": null,
   "metadata": {},
   "outputs": [],
   "source": [
    "table(is.na(here_is_a_vector))"
   ]
  },
  {
   "cell_type": "raw",
   "metadata": {},
   "source": [
    "You might also encounter an `NaN`, which means 'not a number' and is the result of invalid math operations:"
   ]
  },
  {
   "cell_type": "code",
   "execution_count": null,
   "metadata": {},
   "outputs": [],
   "source": [
    "0/0"
   ]
  },
  {
   "cell_type": "raw",
   "metadata": {},
   "source": [
    "`NULL` is another one you might encounter, and it is the result of trying to query a paramter that is undefined for a specific object. For example, you can use the `names()` function to retrieve names assigned to an object. What happens when you try to use this function on an object you haven't named?"
   ]
  },
  {
   "cell_type": "code",
   "execution_count": null,
   "metadata": {},
   "outputs": [],
   "source": [
    "names(here_is_a_vector)"
   ]
  },
  {
   "cell_type": "raw",
   "metadata": {},
   "source": [
    "You might also see `Inf` or `-Inf` which are positive or negative infinity, which result from dividing by zero or operations that do not converge:"
   ]
  },
  {
   "cell_type": "code",
   "execution_count": null,
   "metadata": {},
   "outputs": [],
   "source": [
    "1/0"
   ]
  },
  {
   "cell_type": "raw",
   "metadata": {},
   "source": [
    "# Common functions\n",
    "We have already used a few functions in this workshop. All functions need pieces of information (or arguments) to perform their particular function. Sometimes arguments are required, sometimes arguments are optional. You can use `?function` in R to learn more about a particular function.\n",
    "\n",
    "For example, we have used the `print()` function earlier in this workshop, this function needs only one argument -- the thing you want to print."
   ]
  },
  {
   "cell_type": "code",
   "execution_count": null,
   "metadata": {},
   "outputs": [],
   "source": [
    "print(\"Hello world.\")"
   ]
  },
  {
   "cell_type": "raw",
   "metadata": {},
   "source": [
    "We can also give `print()` some optional arguments. For example, we can use the `quote = FALSE` argument with `print()`."
   ]
  },
  {
   "cell_type": "code",
   "execution_count": null,
   "metadata": {},
   "outputs": [],
   "source": [
    "print(\"Hello world.\", quote = FALSE)"
   ]
  },
  {
   "cell_type": "raw",
   "metadata": {},
   "source": [
    "A few other handy functions:"
   ]
  },
  {
   "cell_type": "code",
   "execution_count": null,
   "metadata": {},
   "outputs": [],
   "source": [
    "new_vector <- c(70, 70, 90, 80, 60, 60, 90, 80, 70, 70, 70, 50)"
   ]
  },
  {
   "cell_type": "code",
   "execution_count": null,
   "metadata": {},
   "outputs": [],
   "source": [
    "median(new_vector)"
   ]
  },
  {
   "cell_type": "code",
   "execution_count": null,
   "metadata": {},
   "outputs": [],
   "source": [
    "mean(new_vector)"
   ]
  },
  {
   "cell_type": "code",
   "execution_count": null,
   "metadata": {},
   "outputs": [],
   "source": [
    "summary(new_vector)"
   ]
  },
  {
   "cell_type": "code",
   "execution_count": null,
   "metadata": {},
   "outputs": [],
   "source": [
    "hist(new_vector)"
   ]
  },
  {
   "cell_type": "raw",
   "metadata": {},
   "source": [
    "# Factors\n",
    "\n",
    "In some situations, you might be dealing with categorical variable, which is known as a factor variable in R. A factor is a type of variable that has a set number of distinct categories into which all observations fall - for example, in a clinical trial comparing multiple treatments, a factor variable would describe which treatment a given patient received.\n",
    "\n",
    "*Factor variables are important because R's default behavior when reading in text is to convert that text into a factor variable rather than a character variable, which can often lead to weird behavior if the user is trying to e.g. search that text.*"
   ]
  },
  {
   "cell_type": "code",
   "execution_count": null,
   "metadata": {},
   "outputs": [],
   "source": [
    "factor.vector <- as.factor(c(\"Extra Small\", \"Small\", \"Small\", \"Large\", \"Medium\", \"Small\", \"Large\", \"Medium\", \"Medium\", \"Small\", \"Large\", \"Extra Large\"))"
   ]
  },
  {
   "cell_type": "code",
   "execution_count": null,
   "metadata": {},
   "outputs": [],
   "source": [
    "class(factor.vector)"
   ]
  },
  {
   "cell_type": "code",
   "execution_count": null,
   "metadata": {},
   "outputs": [],
   "source": [
    "print(factor.vector)"
   ]
  },
  {
   "cell_type": "raw",
   "metadata": {},
   "source": [
    "When printing out a factor variable, R tells you the 'Levels', or all possible values the variable can take. "
   ]
  },
  {
   "cell_type": "code",
   "execution_count": null,
   "metadata": {},
   "outputs": [],
   "source": [
    "table(factor.vector)"
   ]
  },
  {
   "cell_type": "raw",
   "metadata": {},
   "source": [
    "You can also re-order the factors in a way that makes sense to you using the `factor()` function:"
   ]
  },
  {
   "cell_type": "code",
   "execution_count": null,
   "metadata": {},
   "outputs": [],
   "source": [
    "ordered.factor.vector <- factor(factor.vector, levels = c('Extra Small', 'Small', 'Medium', 'Large', 'Extra Large'))"
   ]
  },
  {
   "cell_type": "code",
   "execution_count": null,
   "metadata": {},
   "outputs": [],
   "source": [
    "table(ordered.factor.vector)"
   ]
  },
  {
   "cell_type": "raw",
   "metadata": {},
   "source": [
    "You can also use the `relevel()` function to specify that there's a single factor you'd like to use as the reference factor, which will now be the first factor:"
   ]
  },
  {
   "cell_type": "code",
   "execution_count": null,
   "metadata": {},
   "outputs": [],
   "source": [
    "releveled.factor.vector <- relevel(factor.vector, 'Medium')"
   ]
  },
  {
   "cell_type": "code",
   "execution_count": null,
   "metadata": {},
   "outputs": [],
   "source": [
    "table(releveled.factor.vector)"
   ]
  },
  {
   "cell_type": "code",
   "execution_count": null,
   "metadata": {},
   "outputs": [],
   "source": [
    "You can also coerce a factor to a character:"
   ]
  },
  {
   "cell_type": "code",
   "execution_count": null,
   "metadata": {},
   "outputs": [],
   "source": [
    "character.vector <- as.character(factor.vector)"
   ]
  },
  {
   "cell_type": "code",
   "execution_count": null,
   "metadata": {},
   "outputs": [],
   "source": [
    "class(character.vector)"
   ]
  },
  {
   "cell_type": "raw",
   "metadata": {},
   "source": [
    "We now have a character vector"
   ]
  },
  {
   "cell_type": "code",
   "execution_count": null,
   "metadata": {},
   "outputs": [],
   "source": [
    "print(character.vector)"
   ]
  },
  {
   "cell_type": "raw",
   "metadata": {},
   "source": [
    "Notice that print doesn't return the `Levels` and each element of the vector is now in quotes."
   ]
  },
  {
   "cell_type": "raw",
   "metadata": {},
   "source": [
    "It is also possible to convert a factor into a numeric vector if you want to:"
   ]
  },
  {
   "cell_type": "code",
   "execution_count": null,
   "metadata": {},
   "outputs": [],
   "source": [
    "numeric.vector <- as.numeric(factor.vector)\n",
    "numeric.vector"
   ]
  },
  {
   "cell_type": "raw",
   "metadata": {},
   "source": [
    "# Data frames\n",
    "\n",
    "A table of data is called a gata frame in R. They are a group of vectors bound together to create a data frame. We can use the `data.frame()` function to create a data frame using vectors:  "
   ]
  },
  {
   "cell_type": "raw",
   "metadata": {},
   "source": [
    "column.1 <- c(\"a\", \"b\", \"c\")\n",
    "column.2 <- c(1, 3, 5)\n",
    "column.3 <- c(TRUE, TRUE, FALSE)\n",
    "example.df <- data.frame(column.1, column.2, column.3)\n",
    "\n",
    "example.df"
   ]
  },
  {
   "cell_type": "raw",
   "metadata": {},
   "source": [
    "# We can use the `names()`, `colnames()`, `rownames()`, and `dimnames()` functions to look at our dataframe:"
   ]
  },
  {
   "cell_type": "code",
   "execution_count": null,
   "metadata": {},
   "outputs": [],
   "source": [
    "names(example.df)"
   ]
  },
  {
   "cell_type": "code",
   "execution_count": null,
   "metadata": {},
   "outputs": [],
   "source": [
    "colnames(example.df)"
   ]
  },
  {
   "cell_type": "code",
   "execution_count": null,
   "metadata": {},
   "outputs": [],
   "source": [
    "rownames(example.df)"
   ]
  },
  {
   "cell_type": "code",
   "execution_count": null,
   "metadata": {},
   "outputs": [],
   "source": [
    "dimnames(example.df)"
   ]
  },
  {
   "cell_type": "raw",
   "metadata": {},
   "source": [
    "We can rename the columns:"
   ]
  },
  {
   "cell_type": "code",
   "execution_count": null,
   "metadata": {},
   "outputs": [],
   "source": [
    "colnames(example.df) <- c(\"id\", \"visits\", \"tx.success\")"
   ]
  },
  {
   "cell_type": "code",
   "execution_count": null,
   "metadata": {},
   "outputs": [],
   "source": [
    "example.df"
   ]
  },
  {
   "cell_type": "code",
   "execution_count": null,
   "metadata": {},
   "outputs": [],
   "source": [
    "We can use the column names to extract a single column using the notation `dataframe$column`, e.g.:"
   ]
  },
  {
   "cell_type": "code",
   "execution_count": null,
   "metadata": {},
   "outputs": [],
   "source": [
    "example.df$visits"
   ]
  },
  {
   "cell_type": "raw",
   "metadata": {},
   "source": [
    "The `cbind()` function can be used to add more columns to a dataframe:"
   ]
  },
  {
   "cell_type": "code",
   "execution_count": null,
   "metadata": {},
   "outputs": [],
   "source": [
    "column.4 <- c(1, 1, 1)\n",
    "example.df.cbind <- cbind(example.df, column.4)\n",
    "example.df.cbind"
   ]
  },
  {
   "cell_type": "raw",
   "metadata": {},
   "source": [
    "We can also rename individual columns of the dataframe using index notation, lets rename the 4th column we just added:"
   ]
  },
  {
   "cell_type": "code",
   "execution_count": null,
   "metadata": {},
   "outputs": [],
   "source": [
    "colnames(example.df.cbind)[4] <- \"survival\"\n",
    "example.df.cbind"
   ]
  },
  {
   "cell_type": "code",
   "execution_count": null,
   "metadata": {},
   "outputs": [],
   "source": [
    "We can also use the `dataframe$column` notation to add a new column:"
   ]
  },
  {
   "cell_type": "code",
   "execution_count": null,
   "metadata": {},
   "outputs": [],
   "source": [
    "column.5 <- c(3, 7, 15)\n",
    "example.df.cbind$total.tx <- column.5\n",
    "example.df.cbind"
   ]
  },
  {
   "cell_type": "raw",
   "metadata": {},
   "source": [
    "Elements within data frames have indices just like elements within vectors.  Since a data frame is two-dimensional rather than one-dimensional, each element has two coordinates, which you can access as `[row, column]`.\n",
    "\n",
    "Let's revisit our previous data -- to extract the element in the first row and the first column:"
   ]
  },
  {
   "cell_type": "raw",
   "metadata": {},
   "source": [
    "example.df.cbind[1, 1]"
   ]
  },
  {
   "cell_type": "raw",
   "metadata": {},
   "source": [
    "first row second column:"
   ]
  },
  {
   "cell_type": "code",
   "execution_count": null,
   "metadata": {},
   "outputs": [],
   "source": [
    "example.df.cbind[2, 1]"
   ]
  },
  {
   "cell_type": "raw",
   "metadata": {},
   "source": [
    "You can also pass vectors. For example, to access the first and second row of the first column:"
   ]
  },
  {
   "cell_type": "code",
   "execution_count": null,
   "metadata": {},
   "outputs": [],
   "source": [
    "example.df.cbind[c(1, 2), 1]"
   ]
  },
  {
   "cell_type": "raw",
   "metadata": {},
   "source": [
    "The sequence operator ':' can be used to the same effect:"
   ]
  },
  {
   "cell_type": "code",
   "execution_count": null,
   "metadata": {},
   "outputs": [],
   "source": [
    "example.df.cbind[1:2, 1]"
   ]
  },
  {
   "cell_type": "raw",
   "metadata": {},
   "source": [
    "We can also extract entire rows or columns from a data frame using 'blank notation', e.g. the following will extract ALL rows associated with the first column (i.e. it will yield the first column):"
   ]
  },
  {
   "cell_type": "code",
   "execution_count": null,
   "metadata": {},
   "outputs": [],
   "source": [
    "example.df.cbind[, 1]"
   ]
  },
  {
   "cell_type": "raw",
   "metadata": {},
   "source": [
    "We can use a negative index to extract all data except for specified rows or columns.  Here, we will extract everything except for the second row:"
   ]
  },
  {
   "cell_type": "raw",
   "metadata": {},
   "source": [
    "example.df.cbind[-2, ]"
   ]
  },
  {
   "cell_type": "raw",
   "metadata": {},
   "source": [
    "If both dimensions are queried using vectors, the resulting output will be two-dimensional, i.e. a data frame unto itself.  Here we will extract elements 1,1; 2,1; 2,1; and 2,2, resulting in a 2x2 data frame:"
   ]
  },
  {
   "cell_type": "code",
   "execution_count": null,
   "metadata": {},
   "outputs": [],
   "source": [
    "example.df.cbind[1:2, 1:2]"
   ]
  },
  {
   "cell_type": "raw",
   "metadata": {},
   "source": [
    "# Data frame merging\n",
    "\n",
    "Data is often spread across more than one file. Reading each file into R will result in more than one data frame. If the data frames have some common identifying column, we can ust that common ID to combine the data frames. \n",
    "\n",
    "For example:"
   ]
  },
  {
   "cell_type": "code",
   "execution_count": null,
   "metadata": {},
   "outputs": [],
   "source": [
    "first.df <- data.frame(c('Fido', 'Rex', 'Fluffy'), c(5, 3, 1), c(TRUE, TRUE, FALSE))\n",
    "colnames(first.df) <- c('Name', 'Visits', 'Is_Dog')\n",
    "first.df "
   ]
  },
  {
   "cell_type": "raw",
   "metadata": {},
   "source": [
    "Let's make another data frame:"
   ]
  },
  {
   "cell_type": "code",
   "execution_count": null,
   "metadata": {},
   "outputs": [],
   "source": [
    "second.df <- data.frame(c('Scamp', 'Buddy', 'Fluffy'), column.4, column.5)\n",
    "colnames(second.df) <- c('Name', 'nTails', 'TreatsPerDay')\n",
    "second.df"
   ]
  },
  {
   "cell_type": "raw",
   "metadata": {},
   "source": [
    "We can use the `merge()` function to combine them:"
   ]
  },
  {
   "cell_type": "code",
   "execution_count": null,
   "metadata": {},
   "outputs": [],
   "source": [
    "merge(first.df, second.df, by = 'Name', all = FALSE)"
   ]
  },
  {
   "cell_type": "raw",
   "metadata": {},
   "source": [
    "If we change `all = FALSE` to `all = TRUE`, R will fill in blank values as needed: "
   ]
  },
  {
   "cell_type": "code",
   "execution_count": null,
   "metadata": {},
   "outputs": [],
   "source": [
    "merge(first.df, second.df, by = 'Name', all = TRUE)"
   ]
  },
  {
   "cell_type": "raw",
   "metadata": {},
   "source": [
    "# Working with larger data\n",
    "\n",
    "All of the examples we have used so far are relatively small. Let's move to some approaches you can use when working with larger data.\n",
    "\n",
    "Load the `DNase` data and turn it into a data frame:"
   ]
  },
  {
   "cell_type": "code",
   "execution_count": null,
   "metadata": {},
   "outputs": [],
   "source": [
    "data(DNase)\n",
    "DNase <- data.frame(DNase)"
   ]
  },
  {
   "cell_type": "raw",
   "metadata": {},
   "source": [
    "Let's use the `dim()`, `nrow()`, and `ncol()` functions to get the number of rows (`nrow()`), number of columns (`nrow()`), and number of both rows and columns (`dim()`)"
   ]
  },
  {
   "cell_type": "code",
   "execution_count": null,
   "metadata": {},
   "outputs": [],
   "source": [
    "dim(DNase)"
   ]
  },
  {
   "cell_type": "code",
   "execution_count": null,
   "metadata": {},
   "outputs": [],
   "source": [
    "nrow(DNase)"
   ]
  },
  {
   "cell_type": "code",
   "execution_count": null,
   "metadata": {},
   "outputs": [],
   "source": [
    "ncol(DNase)"
   ]
  },
  {
   "cell_type": "raw",
   "metadata": {},
   "source": [
    "We can use the `head()` function to look at the first few lines of the data frame:"
   ]
  },
  {
   "cell_type": "code",
   "execution_count": null,
   "metadata": {},
   "outputs": [],
   "source": [
    "head(DNase)"
   ]
  },
  {
   "cell_type": "raw",
   "metadata": {},
   "source": [
    "You can use the `n` argument to look at a different number of lines"
   ]
  },
  {
   "cell_type": "code",
   "execution_count": null,
   "metadata": {},
   "outputs": [],
   "source": [
    "head(DNase, n = 3)"
   ]
  },
  {
   "cell_type": "raw",
   "metadata": {},
   "source": [
    "We can use the `tail()` function to look at the last few lines of the data frame:"
   ]
  },
  {
   "cell_type": "code",
   "execution_count": null,
   "metadata": {},
   "outputs": [],
   "source": [
    "tail(DNase, n = 5)"
   ]
  },
  {
   "cell_type": "raw",
   "metadata": {},
   "source": [
    "We can also use the `str()` function, `str()` shows a number of things: the dimensions of the data frame, the names of all the variables, their classes, and a preview of the first few values for each variable."
   ]
  },
  {
   "cell_type": "code",
   "execution_count": null,
   "metadata": {},
   "outputs": [],
   "source": [
    "str(DNase)"
   ]
  },
  {
   "cell_type": "raw",
   "metadata": {},
   "source": [
    "The summary function, which can be applied to either a vector or a data frame (in the latter case, R applies it separately to each column in the data frame) yields a variety of summary statistics about each variable. "
   ]
  },
  {
   "cell_type": "code",
   "execution_count": null,
   "metadata": {},
   "outputs": [],
   "source": [
    "summary(DNase)"
   ]
  },
  {
   "cell_type": "raw",
   "metadata": {},
   "source": [
    "`summary()` is informative for numerical data, but not so helpful for factor data, as in the `Run` column."
   ]
  },
  {
   "cell_type": "raw",
   "metadata": {},
   "source": [
    "Let's make a smaller subset of the `DNase` data to work with:"
   ]
  },
  {
   "cell_type": "code",
   "execution_count": null,
   "metadata": {},
   "outputs": [],
   "source": [
    "DNase.subset <- DNase[1:20, ]\n",
    "DNase.subset"
   ]
  },
  {
   "cell_type": "raw",
   "metadata": {},
   "source": [
    "We can also sort our data. Let's look at the `conc` column:"
   ]
  },
  {
   "cell_type": "code",
   "execution_count": null,
   "metadata": {},
   "outputs": [],
   "source": [
    "print(DNase.subset$conc)"
   ]
  },
  {
   "cell_type": "raw",
   "metadata": {},
   "source": [
    "Use the `order()` function to figure out the ascending rankings of the values"
   ]
  },
  {
   "cell_type": "code",
   "execution_count": null,
   "metadata": {},
   "outputs": [],
   "source": [
    "order(DNase.subset$conc)"
   ]
  },
  {
   "cell_type": "raw",
   "metadata": {},
   "source": [
    "We can assign this ordering to a vector:"
   ]
  },
  {
   "cell_type": "code",
   "execution_count": null,
   "metadata": {},
   "outputs": [],
   "source": [
    "reorder.vector <- order(DNase.subset$conc)"
   ]
  },
  {
   "cell_type": "raw",
   "metadata": {},
   "source": [
    "And use it to reorder our data frame:"
   ]
  },
  {
   "cell_type": "code",
   "execution_count": null,
   "metadata": {},
   "outputs": [],
   "source": [
    "DNase.subset[reorder.vector, ]"
   ]
  },
  {
   "cell_type": "raw",
   "metadata": {},
   "source": [
    "Data frames can be classified into two broad categories: wide format and long format. All data frames shown so far have been presented in wide format. A wide format data frame has each row describe a sample and each column describe a feature. Here is a short example of a data frame in wide format, tabulating counts for three genes in three patients:"
   ]
  },
  {
   "cell_type": "code",
   "execution_count": null,
   "metadata": {},
   "outputs": [],
   "source": [
    "wide.df <- data.frame(c(\"A\", \"B\", \"C\"), c(1, 1, 2), c(5, 6, 7), c(0, 1, 0))\n",
    "colnames(wide.df) <- c(\"id\", \"gene.1\", \"gene.2\", \"gene.3\")\n",
    "wide.df"
   ]
  },
  {
   "cell_type": "raw",
   "metadata": {},
   "source": [
    "Long format stacks features on top of one another; each row is the combination of a sample and a feature.  One column exists to denote the feature in question, and another column exists to denote that feature' value:"
   ]
  },
  {
   "cell_type": "code",
   "execution_count": null,
   "metadata": {},
   "outputs": [],
   "source": [
    "long.df <- data.frame(c(\"A\", \"A\", \"A\", \"B\", \"B\", \"B\", \"C\", \"C\", \"C\"), c(\"gene.1\", \"gene.2\", \"gene.3\", \"gene.1\", \"gene.2\", \"gene.3\", \"gene.1\", \"gene.2\", \"gene.3\"), c(1, 5, 0, 1, 6, 1, 2, 7, 0))\n",
    "colnames(long.df) <- c(\"id\", \"gene\", \"count\")\n",
    "long.df"
   ]
  },
  {
   "cell_type": "raw",
   "metadata": {},
   "source": [
    "These formats both contain the exact same data but represent it in different ways. Various functions exist to convert between wide and long format but these are beyond the scope of today's discussion. You can look up the `reshape2` or `tidyr` packages if you're interested in learning more about converting between long and wide formats -- alternatively, check out our tidyverse workshop."
   ]
  },
  {
   "cell_type": "raw",
   "metadata": {},
   "source": [
    "# Matrices\n",
    "\n",
    "R also includes another type of data structure very similar to a data frame - the 'matrix'.  The matrix is analogous to a data frame but can only contain one type of column e.g. all entries must be numeric or all entries must be text.\n",
    "\n",
    "If an object that is supposed to be a data frame including numeric columns suddenly begins to display quotation marks around the numeric values, that is a sign that it has been coerced to a matrix.  This phenomenon occurs when e.g. a data frame is transposed and is rarely (if ever) desired behavior."
   ]
  },
  {
   "cell_type": "raw",
   "metadata": {},
   "source": [
    "# R packages\n",
    "As we have seen throughout this workshop, R has a wide variety of functions included by default; however, the true utility of R is its extensibility. It was designed to be upgraded by users, and there now exist over 12,000 user-created collections of functions - 'R packages' - in the default R repository alone. Googling your case and 'R' can help you discover new packages that will help you customize how you use R. You can install the packages using `install.packages('package_name_here')` (where you would replace 'package_name_here' with your package of choice, in quotes). This will download the package and any additional required dependencies. \n",
    "Here, we will install the 'tidyr' package:\n"
   ]
  },
  {
   "cell_type": "code",
   "execution_count": null,
   "metadata": {},
   "outputs": [],
   "source": [
    "install.packages('tidyr')"
   ]
  },
  {
   "cell_type": "raw",
   "metadata": {},
   "source": [
    "Before you can actually use the package, you have to load it as follows:"
   ]
  },
  {
   "cell_type": "code",
   "execution_count": null,
   "metadata": {},
   "outputs": [],
   "source": [
    "library('tidyr')"
   ]
  },
  {
   "cell_type": "raw",
   "metadata": {},
   "source": [
    "Most R packages are found in CRAN - the central repository for R package. However, packages can be found in different places. Many of the packages of interest for biologists will be in Bioconductor. \n",
    "\n",
    "There are two steps to downloading a package from Bioconductor -- first, install BiocManager:"
   ]
  },
  {
   "cell_type": "code",
   "execution_count": null,
   "metadata": {},
   "outputs": [],
   "source": [
    "install.packages(\"BiocManager\")"
   ]
  },
  {
   "cell_type": "code",
   "execution_count": null,
   "metadata": {},
   "outputs": [],
   "source": [
    "Then, load `BiocManager` and use `BiocManager::install()` to install a package"
   ]
  },
  {
   "cell_type": "code",
   "execution_count": null,
   "metadata": {},
   "outputs": [],
   "source": [
    "library('BiocManager')\n",
    "BiocManager::install('IRanges')"
   ]
  },
  {
   "cell_type": "raw",
   "metadata": {},
   "source": [
    "Use the `sessionInfo()` function to see more information about your loaded R packages and namespace:"
   ]
  },
  {
   "cell_type": "code",
   "execution_count": null,
   "metadata": {},
   "outputs": [],
   "source": [
    "sessionInfo()"
   ]
  },
  {
   "cell_type": "code",
   "execution_count": null,
   "metadata": {},
   "outputs": [],
   "source": []
  }
 ],
 "metadata": {
  "kernelspec": {
   "display_name": "R",
   "language": "R",
   "name": "ir"
  },
  "language_info": {
   "codemirror_mode": "r",
   "file_extension": ".r",
   "mimetype": "text/x-r-source",
   "name": "R",
   "pygments_lexer": "r",
   "version": "3.5.2"
  }
 },
 "nbformat": 4,
 "nbformat_minor": 4
}
